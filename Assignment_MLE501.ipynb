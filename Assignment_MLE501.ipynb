{
  "nbformat": 4,
  "nbformat_minor": 0,
  "metadata": {
    "colab": {
      "provenance": [],
      "toc_visible": true,
      "authorship_tag": "ABX9TyOjHswLI5A3ma47F9/Fzz+6",
      "include_colab_link": true
    },
    "kernelspec": {
      "name": "python3",
      "display_name": "Python 3"
    },
    "language_info": {
      "name": "python"
    },
    "accelerator": "GPU",
    "gpuClass": "standard"
  },
  "cells": [
    {
      "cell_type": "markdown",
      "metadata": {
        "id": "view-in-github",
        "colab_type": "text"
      },
      "source": [
        "<a href=\"https://colab.research.google.com/github/minhhieu9800/MLE501/blob/main/Assignment_MLE501.ipynb\" target=\"_parent\"><img src=\"https://colab.research.google.com/assets/colab-badge.svg\" alt=\"Open In Colab\"/></a>"
      ]
    },
    {
      "cell_type": "markdown",
      "source": [
        "# Giới thiệu\n",
        "\n",
        "Họ tên: Nguyễn Minh Hiếu </br>\n",
        "Lớp: MSE#11HCM </br>\n",
        "Mã học viên: 22MSE23062 </br>\n",
        "Email: hieu22mse23062@fsb.edu.vn"
      ],
      "metadata": {
        "id": "AaecXjCquLAG"
      }
    },
    {
      "cell_type": "markdown",
      "source": [
        "# Assignment"
      ],
      "metadata": {
        "id": "hYaKemdZvyGv"
      }
    },
    {
      "cell_type": "code",
      "source": [
        "import pandas as pd\n",
        "import numpy as np\n",
        "import tensorflow as tf\n",
        "import keras\n",
        "from tabulate import tabulate\n",
        "\n",
        "from keras.models import Sequential\n",
        "from keras.layers import Dense\n",
        "from keras.models import load_model\n",
        "from keras.optimizers import Adam, RMSprop\n",
        "from sklearn.model_selection import train_test_split"
      ],
      "metadata": {
        "id": "F15QZDthv7nc"
      },
      "execution_count": 100,
      "outputs": []
    },
    {
      "cell_type": "markdown",
      "source": [
        "Load dữ liệu"
      ],
      "metadata": {
        "id": "u0RGH5Du5V9h"
      }
    },
    {
      "cell_type": "code",
      "source": [
        "url = 'https://minhhieu9800.github.io/MLE501/diabetes.csv'\n",
        "df = pd.read_csv(url)"
      ],
      "metadata": {
        "id": "EbTZStr3yU1C"
      },
      "execution_count": 53,
      "outputs": []
    },
    {
      "cell_type": "code",
      "source": [
        "X = df.drop(['Outcome'], axis=1)\n",
        "y = df['Outcome']\n",
        "\n",
        "X_train_val, X_test, y_train_val, y_test = train_test_split(X, y, test_size=0.2)\n",
        "X_train, X_val, y_train, y_val = train_test_split(X_train_val, y_train_val, test_size=0.2)"
      ],
      "metadata": {
        "id": "eTXALQYuyb26"
      },
      "execution_count": 54,
      "outputs": []
    },
    {
      "cell_type": "markdown",
      "source": [
        "Xây dựng model"
      ],
      "metadata": {
        "id": "70D9DjkU5TJj"
      }
    },
    {
      "cell_type": "code",
      "source": [
        "model = Sequential()\n",
        "model.add(Dense(16, input_dim=8, activation='relu'))\n",
        "model.add(Dense(8, activation='relu'))\n",
        "model.add(Dense(1, activation='sigmoid'))\n",
        "\n",
        "model.summary()\n",
        "\n",
        "model.compile(loss='binary_crossentropy', optimizer='adam', metrics=['accuracy'])\n",
        "model.fit(X_train, y_train, epochs=100, batch_size=8, validation_data=(X_val, y_val))"
      ],
      "metadata": {
        "colab": {
          "base_uri": "https://localhost:8080/"
        },
        "id": "maH048DE55yx",
        "outputId": "5fa3a37d-f623-48cb-f50f-e5cae6a4dd72"
      },
      "execution_count": 55,
      "outputs": [
        {
          "output_type": "stream",
          "name": "stdout",
          "text": [
            "Model: \"sequential_1\"\n",
            "_________________________________________________________________\n",
            " Layer (type)                Output Shape              Param #   \n",
            "=================================================================\n",
            " dense_6 (Dense)             (None, 16)                144       \n",
            "                                                                 \n",
            " dense_7 (Dense)             (None, 8)                 136       \n",
            "                                                                 \n",
            " dense_8 (Dense)             (None, 1)                 9         \n",
            "                                                                 \n",
            "=================================================================\n",
            "Total params: 289\n",
            "Trainable params: 289\n",
            "Non-trainable params: 0\n",
            "_________________________________________________________________\n",
            "Epoch 1/100\n",
            "62/62 [==============================] - 2s 7ms/step - loss: 1.5768 - accuracy: 0.5601 - val_loss: 0.9109 - val_accuracy: 0.6016\n",
            "Epoch 2/100\n",
            "62/62 [==============================] - 0s 4ms/step - loss: 1.0408 - accuracy: 0.5967 - val_loss: 1.1059 - val_accuracy: 0.6260\n",
            "Epoch 3/100\n",
            "62/62 [==============================] - 0s 4ms/step - loss: 0.8831 - accuracy: 0.6151 - val_loss: 0.7037 - val_accuracy: 0.6504\n",
            "Epoch 4/100\n",
            "62/62 [==============================] - 0s 4ms/step - loss: 0.7991 - accuracy: 0.6334 - val_loss: 0.6650 - val_accuracy: 0.6423\n",
            "Epoch 5/100\n",
            "62/62 [==============================] - 0s 5ms/step - loss: 0.7927 - accuracy: 0.6293 - val_loss: 0.7287 - val_accuracy: 0.6667\n",
            "Epoch 6/100\n",
            "62/62 [==============================] - 0s 5ms/step - loss: 0.7256 - accuracy: 0.6619 - val_loss: 0.6768 - val_accuracy: 0.6504\n",
            "Epoch 7/100\n",
            "62/62 [==============================] - 0s 4ms/step - loss: 0.6949 - accuracy: 0.6477 - val_loss: 0.6452 - val_accuracy: 0.6829\n",
            "Epoch 8/100\n",
            "62/62 [==============================] - 0s 4ms/step - loss: 0.6894 - accuracy: 0.6558 - val_loss: 0.6419 - val_accuracy: 0.6423\n",
            "Epoch 9/100\n",
            "62/62 [==============================] - 0s 6ms/step - loss: 0.6618 - accuracy: 0.6619 - val_loss: 0.6247 - val_accuracy: 0.6748\n",
            "Epoch 10/100\n",
            "62/62 [==============================] - 0s 7ms/step - loss: 0.6332 - accuracy: 0.6599 - val_loss: 0.6113 - val_accuracy: 0.6667\n",
            "Epoch 11/100\n",
            "62/62 [==============================] - 0s 6ms/step - loss: 0.6281 - accuracy: 0.6823 - val_loss: 0.6064 - val_accuracy: 0.6504\n",
            "Epoch 12/100\n",
            "62/62 [==============================] - 0s 6ms/step - loss: 0.6413 - accuracy: 0.6640 - val_loss: 0.5926 - val_accuracy: 0.6667\n",
            "Epoch 13/100\n",
            "62/62 [==============================] - 0s 6ms/step - loss: 0.6476 - accuracy: 0.6558 - val_loss: 0.6496 - val_accuracy: 0.6748\n",
            "Epoch 14/100\n",
            "62/62 [==============================] - 0s 7ms/step - loss: 0.6019 - accuracy: 0.6741 - val_loss: 0.6000 - val_accuracy: 0.6829\n",
            "Epoch 15/100\n",
            "62/62 [==============================] - 0s 5ms/step - loss: 0.6070 - accuracy: 0.6782 - val_loss: 0.6135 - val_accuracy: 0.6585\n",
            "Epoch 16/100\n",
            "62/62 [==============================] - 0s 5ms/step - loss: 0.6066 - accuracy: 0.6925 - val_loss: 0.5838 - val_accuracy: 0.6748\n",
            "Epoch 17/100\n",
            "62/62 [==============================] - 0s 4ms/step - loss: 0.5885 - accuracy: 0.6802 - val_loss: 0.5712 - val_accuracy: 0.7073\n",
            "Epoch 18/100\n",
            "62/62 [==============================] - 0s 4ms/step - loss: 0.5914 - accuracy: 0.6802 - val_loss: 0.5621 - val_accuracy: 0.7073\n",
            "Epoch 19/100\n",
            "62/62 [==============================] - 0s 5ms/step - loss: 0.6230 - accuracy: 0.6741 - val_loss: 0.5713 - val_accuracy: 0.7236\n",
            "Epoch 20/100\n",
            "62/62 [==============================] - 0s 5ms/step - loss: 0.5853 - accuracy: 0.6904 - val_loss: 0.5723 - val_accuracy: 0.7154\n",
            "Epoch 21/100\n",
            "62/62 [==============================] - 0s 5ms/step - loss: 0.5731 - accuracy: 0.6986 - val_loss: 0.6409 - val_accuracy: 0.6585\n",
            "Epoch 22/100\n",
            "62/62 [==============================] - 0s 4ms/step - loss: 0.6095 - accuracy: 0.6925 - val_loss: 0.5967 - val_accuracy: 0.6992\n",
            "Epoch 23/100\n",
            "62/62 [==============================] - 0s 4ms/step - loss: 0.5788 - accuracy: 0.7047 - val_loss: 0.6103 - val_accuracy: 0.6829\n",
            "Epoch 24/100\n",
            "62/62 [==============================] - 0s 4ms/step - loss: 0.5745 - accuracy: 0.7006 - val_loss: 0.5649 - val_accuracy: 0.6829\n",
            "Epoch 25/100\n",
            "62/62 [==============================] - 0s 4ms/step - loss: 0.5658 - accuracy: 0.7067 - val_loss: 0.5871 - val_accuracy: 0.6748\n",
            "Epoch 26/100\n",
            "62/62 [==============================] - 0s 4ms/step - loss: 0.5849 - accuracy: 0.6945 - val_loss: 0.5740 - val_accuracy: 0.6829\n",
            "Epoch 27/100\n",
            "62/62 [==============================] - 0s 5ms/step - loss: 0.5595 - accuracy: 0.7026 - val_loss: 0.5689 - val_accuracy: 0.6992\n",
            "Epoch 28/100\n",
            "62/62 [==============================] - 0s 4ms/step - loss: 0.5799 - accuracy: 0.6986 - val_loss: 0.5622 - val_accuracy: 0.7317\n",
            "Epoch 29/100\n",
            "62/62 [==============================] - 0s 4ms/step - loss: 0.5585 - accuracy: 0.7189 - val_loss: 0.5807 - val_accuracy: 0.6911\n",
            "Epoch 30/100\n",
            "62/62 [==============================] - 0s 5ms/step - loss: 0.5823 - accuracy: 0.6945 - val_loss: 0.5788 - val_accuracy: 0.6829\n",
            "Epoch 31/100\n",
            "62/62 [==============================] - 0s 5ms/step - loss: 0.5946 - accuracy: 0.6986 - val_loss: 0.6281 - val_accuracy: 0.6667\n",
            "Epoch 32/100\n",
            "62/62 [==============================] - 0s 4ms/step - loss: 0.5665 - accuracy: 0.7108 - val_loss: 0.5802 - val_accuracy: 0.7073\n",
            "Epoch 33/100\n",
            "62/62 [==============================] - 0s 4ms/step - loss: 0.5835 - accuracy: 0.7006 - val_loss: 0.5574 - val_accuracy: 0.6992\n",
            "Epoch 34/100\n",
            "62/62 [==============================] - 0s 5ms/step - loss: 0.5847 - accuracy: 0.6864 - val_loss: 0.5851 - val_accuracy: 0.6992\n",
            "Epoch 35/100\n",
            "62/62 [==============================] - 0s 4ms/step - loss: 0.5688 - accuracy: 0.6904 - val_loss: 0.5592 - val_accuracy: 0.6911\n",
            "Epoch 36/100\n",
            "62/62 [==============================] - 0s 4ms/step - loss: 0.5564 - accuracy: 0.7128 - val_loss: 0.5514 - val_accuracy: 0.6992\n",
            "Epoch 37/100\n",
            "62/62 [==============================] - 0s 5ms/step - loss: 0.5653 - accuracy: 0.6925 - val_loss: 0.5684 - val_accuracy: 0.6992\n",
            "Epoch 38/100\n",
            "62/62 [==============================] - 0s 5ms/step - loss: 0.5420 - accuracy: 0.7271 - val_loss: 0.5838 - val_accuracy: 0.6992\n",
            "Epoch 39/100\n",
            "62/62 [==============================] - 0s 5ms/step - loss: 0.5548 - accuracy: 0.7067 - val_loss: 0.5610 - val_accuracy: 0.6667\n",
            "Epoch 40/100\n",
            "62/62 [==============================] - 0s 5ms/step - loss: 0.5494 - accuracy: 0.7210 - val_loss: 0.5931 - val_accuracy: 0.6748\n",
            "Epoch 41/100\n",
            "62/62 [==============================] - 0s 5ms/step - loss: 0.5614 - accuracy: 0.7006 - val_loss: 0.5633 - val_accuracy: 0.7073\n",
            "Epoch 42/100\n",
            "62/62 [==============================] - 0s 5ms/step - loss: 0.5488 - accuracy: 0.7230 - val_loss: 0.5725 - val_accuracy: 0.6911\n",
            "Epoch 43/100\n",
            "62/62 [==============================] - 0s 4ms/step - loss: 0.5449 - accuracy: 0.7169 - val_loss: 0.5601 - val_accuracy: 0.7154\n",
            "Epoch 44/100\n",
            "62/62 [==============================] - 0s 5ms/step - loss: 0.5671 - accuracy: 0.6986 - val_loss: 0.5513 - val_accuracy: 0.6911\n",
            "Epoch 45/100\n",
            "62/62 [==============================] - 0s 4ms/step - loss: 0.5434 - accuracy: 0.7108 - val_loss: 0.5622 - val_accuracy: 0.7236\n",
            "Epoch 46/100\n",
            "62/62 [==============================] - 0s 5ms/step - loss: 0.5680 - accuracy: 0.7006 - val_loss: 0.5679 - val_accuracy: 0.6992\n",
            "Epoch 47/100\n",
            "62/62 [==============================] - 0s 5ms/step - loss: 0.5679 - accuracy: 0.7067 - val_loss: 0.5746 - val_accuracy: 0.7317\n",
            "Epoch 48/100\n",
            "62/62 [==============================] - 0s 4ms/step - loss: 0.5787 - accuracy: 0.6945 - val_loss: 0.5621 - val_accuracy: 0.6992\n",
            "Epoch 49/100\n",
            "62/62 [==============================] - 0s 4ms/step - loss: 0.5532 - accuracy: 0.7128 - val_loss: 0.5590 - val_accuracy: 0.7073\n",
            "Epoch 50/100\n",
            "62/62 [==============================] - 0s 5ms/step - loss: 0.5550 - accuracy: 0.7210 - val_loss: 0.5579 - val_accuracy: 0.7561\n",
            "Epoch 51/100\n",
            "62/62 [==============================] - 0s 7ms/step - loss: 0.5430 - accuracy: 0.7088 - val_loss: 0.6106 - val_accuracy: 0.6585\n",
            "Epoch 52/100\n",
            "62/62 [==============================] - 0s 6ms/step - loss: 0.5536 - accuracy: 0.7149 - val_loss: 0.5674 - val_accuracy: 0.7398\n",
            "Epoch 53/100\n",
            "62/62 [==============================] - 0s 6ms/step - loss: 0.5351 - accuracy: 0.7210 - val_loss: 0.6059 - val_accuracy: 0.6667\n",
            "Epoch 54/100\n",
            "62/62 [==============================] - 0s 6ms/step - loss: 0.5416 - accuracy: 0.7230 - val_loss: 0.5456 - val_accuracy: 0.7398\n",
            "Epoch 55/100\n",
            "62/62 [==============================] - 0s 7ms/step - loss: 0.5726 - accuracy: 0.7006 - val_loss: 0.5495 - val_accuracy: 0.7154\n",
            "Epoch 56/100\n",
            "62/62 [==============================] - 0s 6ms/step - loss: 0.5561 - accuracy: 0.7149 - val_loss: 0.5840 - val_accuracy: 0.6504\n",
            "Epoch 57/100\n",
            "62/62 [==============================] - 0s 5ms/step - loss: 0.5535 - accuracy: 0.7108 - val_loss: 0.5543 - val_accuracy: 0.7154\n",
            "Epoch 58/100\n",
            "62/62 [==============================] - 0s 5ms/step - loss: 0.5613 - accuracy: 0.7210 - val_loss: 0.5509 - val_accuracy: 0.7236\n",
            "Epoch 59/100\n",
            "62/62 [==============================] - 0s 4ms/step - loss: 0.5518 - accuracy: 0.7067 - val_loss: 0.5613 - val_accuracy: 0.7317\n",
            "Epoch 60/100\n",
            "62/62 [==============================] - 0s 5ms/step - loss: 0.5549 - accuracy: 0.6925 - val_loss: 0.6395 - val_accuracy: 0.6911\n",
            "Epoch 61/100\n",
            "62/62 [==============================] - 0s 5ms/step - loss: 0.5545 - accuracy: 0.7149 - val_loss: 0.5633 - val_accuracy: 0.7317\n",
            "Epoch 62/100\n",
            "62/62 [==============================] - 0s 4ms/step - loss: 0.5480 - accuracy: 0.7251 - val_loss: 0.5835 - val_accuracy: 0.7073\n",
            "Epoch 63/100\n",
            "62/62 [==============================] - 0s 5ms/step - loss: 0.5397 - accuracy: 0.7332 - val_loss: 0.5783 - val_accuracy: 0.6992\n",
            "Epoch 64/100\n",
            "62/62 [==============================] - 0s 5ms/step - loss: 0.5418 - accuracy: 0.7454 - val_loss: 0.5735 - val_accuracy: 0.6992\n",
            "Epoch 65/100\n",
            "62/62 [==============================] - 0s 5ms/step - loss: 0.5558 - accuracy: 0.6945 - val_loss: 0.6424 - val_accuracy: 0.6585\n",
            "Epoch 66/100\n",
            "62/62 [==============================] - 0s 5ms/step - loss: 0.5441 - accuracy: 0.7169 - val_loss: 0.5986 - val_accuracy: 0.6829\n",
            "Epoch 67/100\n",
            "62/62 [==============================] - 0s 5ms/step - loss: 0.5342 - accuracy: 0.7271 - val_loss: 0.5463 - val_accuracy: 0.7073\n",
            "Epoch 68/100\n",
            "62/62 [==============================] - 0s 5ms/step - loss: 0.5400 - accuracy: 0.7251 - val_loss: 0.5903 - val_accuracy: 0.6992\n",
            "Epoch 69/100\n",
            "62/62 [==============================] - 0s 4ms/step - loss: 0.5574 - accuracy: 0.7047 - val_loss: 0.5968 - val_accuracy: 0.6992\n",
            "Epoch 70/100\n",
            "62/62 [==============================] - 0s 4ms/step - loss: 0.5601 - accuracy: 0.7169 - val_loss: 0.5803 - val_accuracy: 0.6992\n",
            "Epoch 71/100\n",
            "62/62 [==============================] - 0s 4ms/step - loss: 0.5561 - accuracy: 0.7189 - val_loss: 0.5655 - val_accuracy: 0.7236\n",
            "Epoch 72/100\n",
            "62/62 [==============================] - 0s 4ms/step - loss: 0.5315 - accuracy: 0.7352 - val_loss: 0.5752 - val_accuracy: 0.7073\n",
            "Epoch 73/100\n",
            "62/62 [==============================] - 0s 4ms/step - loss: 0.5394 - accuracy: 0.7108 - val_loss: 0.5726 - val_accuracy: 0.7154\n",
            "Epoch 74/100\n",
            "62/62 [==============================] - 0s 5ms/step - loss: 0.5524 - accuracy: 0.7251 - val_loss: 0.6137 - val_accuracy: 0.6423\n",
            "Epoch 75/100\n",
            "62/62 [==============================] - 0s 4ms/step - loss: 0.5475 - accuracy: 0.7210 - val_loss: 0.5451 - val_accuracy: 0.7154\n",
            "Epoch 76/100\n",
            "62/62 [==============================] - 0s 5ms/step - loss: 0.5356 - accuracy: 0.7189 - val_loss: 0.5504 - val_accuracy: 0.6992\n",
            "Epoch 77/100\n",
            "62/62 [==============================] - 0s 4ms/step - loss: 0.5280 - accuracy: 0.7312 - val_loss: 0.5631 - val_accuracy: 0.6992\n",
            "Epoch 78/100\n",
            "62/62 [==============================] - 0s 4ms/step - loss: 0.5328 - accuracy: 0.7291 - val_loss: 0.5792 - val_accuracy: 0.6748\n",
            "Epoch 79/100\n",
            "62/62 [==============================] - 0s 5ms/step - loss: 0.5335 - accuracy: 0.7169 - val_loss: 0.5764 - val_accuracy: 0.7236\n",
            "Epoch 80/100\n",
            "62/62 [==============================] - 0s 5ms/step - loss: 0.5540 - accuracy: 0.7271 - val_loss: 0.5589 - val_accuracy: 0.7561\n",
            "Epoch 81/100\n",
            "62/62 [==============================] - 0s 5ms/step - loss: 0.5442 - accuracy: 0.7128 - val_loss: 0.5446 - val_accuracy: 0.7398\n",
            "Epoch 82/100\n",
            "62/62 [==============================] - 0s 5ms/step - loss: 0.5307 - accuracy: 0.7251 - val_loss: 0.5615 - val_accuracy: 0.6992\n",
            "Epoch 83/100\n",
            "62/62 [==============================] - 0s 5ms/step - loss: 0.5323 - accuracy: 0.7189 - val_loss: 0.5773 - val_accuracy: 0.6829\n",
            "Epoch 84/100\n",
            "62/62 [==============================] - 0s 5ms/step - loss: 0.5419 - accuracy: 0.7230 - val_loss: 0.5575 - val_accuracy: 0.7236\n",
            "Epoch 85/100\n",
            "62/62 [==============================] - 0s 5ms/step - loss: 0.5413 - accuracy: 0.7128 - val_loss: 0.5613 - val_accuracy: 0.7073\n",
            "Epoch 86/100\n",
            "62/62 [==============================] - 0s 5ms/step - loss: 0.5294 - accuracy: 0.7434 - val_loss: 0.6203 - val_accuracy: 0.6585\n",
            "Epoch 87/100\n",
            "62/62 [==============================] - 0s 5ms/step - loss: 0.5330 - accuracy: 0.7230 - val_loss: 0.5522 - val_accuracy: 0.7317\n",
            "Epoch 88/100\n",
            "62/62 [==============================] - 0s 4ms/step - loss: 0.5245 - accuracy: 0.7413 - val_loss: 0.5704 - val_accuracy: 0.6829\n",
            "Epoch 89/100\n",
            "62/62 [==============================] - 0s 4ms/step - loss: 0.5279 - accuracy: 0.7332 - val_loss: 0.5655 - val_accuracy: 0.7642\n",
            "Epoch 90/100\n",
            "62/62 [==============================] - 0s 6ms/step - loss: 0.5133 - accuracy: 0.7352 - val_loss: 0.5841 - val_accuracy: 0.6829\n",
            "Epoch 91/100\n",
            "62/62 [==============================] - 0s 7ms/step - loss: 0.5337 - accuracy: 0.7352 - val_loss: 0.5384 - val_accuracy: 0.7561\n",
            "Epoch 92/100\n",
            "62/62 [==============================] - 0s 6ms/step - loss: 0.5165 - accuracy: 0.7332 - val_loss: 0.6154 - val_accuracy: 0.6585\n",
            "Epoch 93/100\n",
            "62/62 [==============================] - 0s 7ms/step - loss: 0.5187 - accuracy: 0.7373 - val_loss: 0.5635 - val_accuracy: 0.7480\n",
            "Epoch 94/100\n",
            "62/62 [==============================] - 0s 6ms/step - loss: 0.5135 - accuracy: 0.7434 - val_loss: 0.5591 - val_accuracy: 0.7398\n",
            "Epoch 95/100\n",
            "62/62 [==============================] - 0s 6ms/step - loss: 0.5294 - accuracy: 0.7251 - val_loss: 0.6456 - val_accuracy: 0.6748\n",
            "Epoch 96/100\n",
            "62/62 [==============================] - 0s 5ms/step - loss: 0.5284 - accuracy: 0.7312 - val_loss: 0.5720 - val_accuracy: 0.7073\n",
            "Epoch 97/100\n",
            "62/62 [==============================] - 0s 5ms/step - loss: 0.5140 - accuracy: 0.7617 - val_loss: 0.5888 - val_accuracy: 0.6992\n",
            "Epoch 98/100\n",
            "62/62 [==============================] - 0s 5ms/step - loss: 0.5259 - accuracy: 0.7352 - val_loss: 0.5371 - val_accuracy: 0.7317\n",
            "Epoch 99/100\n",
            "62/62 [==============================] - 0s 5ms/step - loss: 0.5222 - accuracy: 0.7434 - val_loss: 0.5457 - val_accuracy: 0.7398\n",
            "Epoch 100/100\n",
            "62/62 [==============================] - 0s 4ms/step - loss: 0.5228 - accuracy: 0.7515 - val_loss: 0.5447 - val_accuracy: 0.7480\n"
          ]
        },
        {
          "output_type": "execute_result",
          "data": {
            "text/plain": [
              "<keras.callbacks.History at 0x7f2008e12130>"
            ]
          },
          "metadata": {},
          "execution_count": 55
        }
      ]
    },
    {
      "cell_type": "code",
      "source": [
        "model.save(\"model.h5\")"
      ],
      "metadata": {
        "id": "6hEeFRlL6o44"
      },
      "execution_count": 56,
      "outputs": []
    },
    {
      "cell_type": "code",
      "source": [
        "model = load_model(\"model.h5\")"
      ],
      "metadata": {
        "id": "M0Q_XLUU-o3A"
      },
      "execution_count": 57,
      "outputs": []
    },
    {
      "cell_type": "code",
      "source": [
        "loss, accuracy = model.evaluate(X_test, y_test)\n",
        "print(\"Loss: \", loss)\n",
        "print(\"Accuracy: \", accuracy)"
      ],
      "metadata": {
        "colab": {
          "base_uri": "https://localhost:8080/"
        },
        "id": "uSMZ-Tb__Xtf",
        "outputId": "cf58f1e3-b92a-4013-81db-05de7e6052bc"
      },
      "execution_count": 58,
      "outputs": [
        {
          "output_type": "stream",
          "name": "stdout",
          "text": [
            "5/5 [==============================] - 0s 5ms/step - loss: 0.6234 - accuracy: 0.6948\n",
            "Loss:  0.6233633160591125\n",
            "Accuracy:  0.6948052048683167\n"
          ]
        }
      ]
    },
    {
      "cell_type": "markdown",
      "source": [
        "## Sử dụng Hyperparameter Tuning (Keras Tuner)"
      ],
      "metadata": {
        "id": "grEAzn7nZVp_"
      }
    },
    {
      "cell_type": "code",
      "source": [
        "!pip install keras-tuner\n",
        "import keras_tuner as kt"
      ],
      "metadata": {
        "colab": {
          "base_uri": "https://localhost:8080/"
        },
        "id": "npqDTQMsUpLh",
        "outputId": "b4b47883-2def-4e21-e4b3-5fac399a4dd9"
      },
      "execution_count": 59,
      "outputs": [
        {
          "output_type": "stream",
          "name": "stdout",
          "text": [
            "Looking in indexes: https://pypi.org/simple, https://us-python.pkg.dev/colab-wheels/public/simple/\n",
            "Requirement already satisfied: keras-tuner in /usr/local/lib/python3.8/dist-packages (1.3.0)\n",
            "Requirement already satisfied: requests in /usr/local/lib/python3.8/dist-packages (from keras-tuner) (2.25.1)\n",
            "Requirement already satisfied: ipython in /usr/local/lib/python3.8/dist-packages (from keras-tuner) (7.9.0)\n",
            "Requirement already satisfied: kt-legacy in /usr/local/lib/python3.8/dist-packages (from keras-tuner) (1.0.4)\n",
            "Requirement already satisfied: tensorflow>=2.0 in /usr/local/lib/python3.8/dist-packages (from keras-tuner) (2.11.0)\n",
            "Requirement already satisfied: packaging in /usr/local/lib/python3.8/dist-packages (from keras-tuner) (23.0)\n",
            "Requirement already satisfied: flatbuffers>=2.0 in /usr/local/lib/python3.8/dist-packages (from tensorflow>=2.0->keras-tuner) (23.1.21)\n",
            "Requirement already satisfied: opt-einsum>=2.3.2 in /usr/local/lib/python3.8/dist-packages (from tensorflow>=2.0->keras-tuner) (3.3.0)\n",
            "Requirement already satisfied: six>=1.12.0 in /usr/local/lib/python3.8/dist-packages (from tensorflow>=2.0->keras-tuner) (1.15.0)\n",
            "Requirement already satisfied: keras<2.12,>=2.11.0 in /usr/local/lib/python3.8/dist-packages (from tensorflow>=2.0->keras-tuner) (2.11.0)\n",
            "Requirement already satisfied: gast<=0.4.0,>=0.2.1 in /usr/local/lib/python3.8/dist-packages (from tensorflow>=2.0->keras-tuner) (0.4.0)\n",
            "Requirement already satisfied: google-pasta>=0.1.1 in /usr/local/lib/python3.8/dist-packages (from tensorflow>=2.0->keras-tuner) (0.2.0)\n",
            "Requirement already satisfied: setuptools in /usr/local/lib/python3.8/dist-packages (from tensorflow>=2.0->keras-tuner) (57.4.0)\n",
            "Requirement already satisfied: tensorboard<2.12,>=2.11 in /usr/local/lib/python3.8/dist-packages (from tensorflow>=2.0->keras-tuner) (2.11.2)\n",
            "Requirement already satisfied: typing-extensions>=3.6.6 in /usr/local/lib/python3.8/dist-packages (from tensorflow>=2.0->keras-tuner) (4.5.0)\n",
            "Requirement already satisfied: h5py>=2.9.0 in /usr/local/lib/python3.8/dist-packages (from tensorflow>=2.0->keras-tuner) (3.1.0)\n",
            "Requirement already satisfied: absl-py>=1.0.0 in /usr/local/lib/python3.8/dist-packages (from tensorflow>=2.0->keras-tuner) (1.4.0)\n",
            "Requirement already satisfied: tensorflow-estimator<2.12,>=2.11.0 in /usr/local/lib/python3.8/dist-packages (from tensorflow>=2.0->keras-tuner) (2.11.0)\n",
            "Requirement already satisfied: numpy>=1.20 in /usr/local/lib/python3.8/dist-packages (from tensorflow>=2.0->keras-tuner) (1.22.4)\n",
            "Requirement already satisfied: tensorflow-io-gcs-filesystem>=0.23.1 in /usr/local/lib/python3.8/dist-packages (from tensorflow>=2.0->keras-tuner) (0.31.0)\n",
            "Requirement already satisfied: wrapt>=1.11.0 in /usr/local/lib/python3.8/dist-packages (from tensorflow>=2.0->keras-tuner) (1.15.0)\n",
            "Requirement already satisfied: termcolor>=1.1.0 in /usr/local/lib/python3.8/dist-packages (from tensorflow>=2.0->keras-tuner) (2.2.0)\n",
            "Requirement already satisfied: libclang>=13.0.0 in /usr/local/lib/python3.8/dist-packages (from tensorflow>=2.0->keras-tuner) (15.0.6.1)\n",
            "Requirement already satisfied: astunparse>=1.6.0 in /usr/local/lib/python3.8/dist-packages (from tensorflow>=2.0->keras-tuner) (1.6.3)\n",
            "Requirement already satisfied: protobuf<3.20,>=3.9.2 in /usr/local/lib/python3.8/dist-packages (from tensorflow>=2.0->keras-tuner) (3.19.6)\n",
            "Requirement already satisfied: grpcio<2.0,>=1.24.3 in /usr/local/lib/python3.8/dist-packages (from tensorflow>=2.0->keras-tuner) (1.51.3)\n",
            "Requirement already satisfied: pickleshare in /usr/local/lib/python3.8/dist-packages (from ipython->keras-tuner) (0.7.5)\n",
            "Requirement already satisfied: prompt-toolkit<2.1.0,>=2.0.0 in /usr/local/lib/python3.8/dist-packages (from ipython->keras-tuner) (2.0.10)\n",
            "Requirement already satisfied: decorator in /usr/local/lib/python3.8/dist-packages (from ipython->keras-tuner) (4.4.2)\n",
            "Requirement already satisfied: pexpect in /usr/local/lib/python3.8/dist-packages (from ipython->keras-tuner) (4.8.0)\n",
            "Requirement already satisfied: traitlets>=4.2 in /usr/local/lib/python3.8/dist-packages (from ipython->keras-tuner) (5.7.1)\n",
            "Requirement already satisfied: backcall in /usr/local/lib/python3.8/dist-packages (from ipython->keras-tuner) (0.2.0)\n",
            "Requirement already satisfied: pygments in /usr/local/lib/python3.8/dist-packages (from ipython->keras-tuner) (2.6.1)\n",
            "Requirement already satisfied: jedi>=0.10 in /usr/local/lib/python3.8/dist-packages (from ipython->keras-tuner) (0.18.2)\n",
            "Requirement already satisfied: idna<3,>=2.5 in /usr/local/lib/python3.8/dist-packages (from requests->keras-tuner) (2.10)\n",
            "Requirement already satisfied: certifi>=2017.4.17 in /usr/local/lib/python3.8/dist-packages (from requests->keras-tuner) (2022.12.7)\n",
            "Requirement already satisfied: chardet<5,>=3.0.2 in /usr/local/lib/python3.8/dist-packages (from requests->keras-tuner) (4.0.0)\n",
            "Requirement already satisfied: urllib3<1.27,>=1.21.1 in /usr/local/lib/python3.8/dist-packages (from requests->keras-tuner) (1.26.14)\n",
            "Requirement already satisfied: wheel<1.0,>=0.23.0 in /usr/local/lib/python3.8/dist-packages (from astunparse>=1.6.0->tensorflow>=2.0->keras-tuner) (0.38.4)\n",
            "Requirement already satisfied: parso<0.9.0,>=0.8.0 in /usr/local/lib/python3.8/dist-packages (from jedi>=0.10->ipython->keras-tuner) (0.8.3)\n",
            "Requirement already satisfied: wcwidth in /usr/local/lib/python3.8/dist-packages (from prompt-toolkit<2.1.0,>=2.0.0->ipython->keras-tuner) (0.2.6)\n",
            "Requirement already satisfied: tensorboard-data-server<0.7.0,>=0.6.0 in /usr/local/lib/python3.8/dist-packages (from tensorboard<2.12,>=2.11->tensorflow>=2.0->keras-tuner) (0.6.1)\n",
            "Requirement already satisfied: tensorboard-plugin-wit>=1.6.0 in /usr/local/lib/python3.8/dist-packages (from tensorboard<2.12,>=2.11->tensorflow>=2.0->keras-tuner) (1.8.1)\n",
            "Requirement already satisfied: werkzeug>=1.0.1 in /usr/local/lib/python3.8/dist-packages (from tensorboard<2.12,>=2.11->tensorflow>=2.0->keras-tuner) (2.2.3)\n",
            "Requirement already satisfied: google-auth-oauthlib<0.5,>=0.4.1 in /usr/local/lib/python3.8/dist-packages (from tensorboard<2.12,>=2.11->tensorflow>=2.0->keras-tuner) (0.4.6)\n",
            "Requirement already satisfied: google-auth<3,>=1.6.3 in /usr/local/lib/python3.8/dist-packages (from tensorboard<2.12,>=2.11->tensorflow>=2.0->keras-tuner) (2.16.1)\n",
            "Requirement already satisfied: markdown>=2.6.8 in /usr/local/lib/python3.8/dist-packages (from tensorboard<2.12,>=2.11->tensorflow>=2.0->keras-tuner) (3.4.1)\n",
            "Requirement already satisfied: ptyprocess>=0.5 in /usr/local/lib/python3.8/dist-packages (from pexpect->ipython->keras-tuner) (0.7.0)\n",
            "Requirement already satisfied: cachetools<6.0,>=2.0.0 in /usr/local/lib/python3.8/dist-packages (from google-auth<3,>=1.6.3->tensorboard<2.12,>=2.11->tensorflow>=2.0->keras-tuner) (5.3.0)\n",
            "Requirement already satisfied: pyasn1-modules>=0.2.1 in /usr/local/lib/python3.8/dist-packages (from google-auth<3,>=1.6.3->tensorboard<2.12,>=2.11->tensorflow>=2.0->keras-tuner) (0.2.8)\n",
            "Requirement already satisfied: rsa<5,>=3.1.4 in /usr/local/lib/python3.8/dist-packages (from google-auth<3,>=1.6.3->tensorboard<2.12,>=2.11->tensorflow>=2.0->keras-tuner) (4.9)\n",
            "Requirement already satisfied: requests-oauthlib>=0.7.0 in /usr/local/lib/python3.8/dist-packages (from google-auth-oauthlib<0.5,>=0.4.1->tensorboard<2.12,>=2.11->tensorflow>=2.0->keras-tuner) (1.3.1)\n",
            "Requirement already satisfied: importlib-metadata>=4.4 in /usr/local/lib/python3.8/dist-packages (from markdown>=2.6.8->tensorboard<2.12,>=2.11->tensorflow>=2.0->keras-tuner) (6.0.0)\n",
            "Requirement already satisfied: MarkupSafe>=2.1.1 in /usr/local/lib/python3.8/dist-packages (from werkzeug>=1.0.1->tensorboard<2.12,>=2.11->tensorflow>=2.0->keras-tuner) (2.1.2)\n",
            "Requirement already satisfied: zipp>=0.5 in /usr/local/lib/python3.8/dist-packages (from importlib-metadata>=4.4->markdown>=2.6.8->tensorboard<2.12,>=2.11->tensorflow>=2.0->keras-tuner) (3.15.0)\n",
            "Requirement already satisfied: pyasn1<0.5.0,>=0.4.6 in /usr/local/lib/python3.8/dist-packages (from pyasn1-modules>=0.2.1->google-auth<3,>=1.6.3->tensorboard<2.12,>=2.11->tensorflow>=2.0->keras-tuner) (0.4.8)\n",
            "Requirement already satisfied: oauthlib>=3.0.0 in /usr/local/lib/python3.8/dist-packages (from requests-oauthlib>=0.7.0->google-auth-oauthlib<0.5,>=0.4.1->tensorboard<2.12,>=2.11->tensorflow>=2.0->keras-tuner) (3.2.2)\n"
          ]
        }
      ]
    },
    {
      "cell_type": "code",
      "source": [
        "# Tạm hàm build Hyper model\n",
        "def build_model(hp): \n",
        "  model = keras.Sequential()\n",
        "\n",
        "  X = hp.Int('units_input', min_value=8, max_value=64, step=8)\n",
        "  model.add(Dense(units=X, input_dim=8, activation='relu'))\n",
        "\n",
        "  for i in range(hp.Int('num_layers', 1, 4)):\n",
        "    Y = hp.Int('units_' + str(i), min_value=8, max_value=64, step=8)\n",
        "    model.add(Dense(units=Y, activation='relu'))\n",
        "\n",
        "  model.add(Dense(1, activation='sigmoid'))\n",
        "\n",
        "  lr = hp.Choice('learning_rate', values=[1e-2, 1e-3, 1e-4])\n",
        "  model.compile(\n",
        "        optimizer=Adam(learning_rate=lr),\n",
        "        loss='binary_crossentropy',\n",
        "        metrics=['accuracy'])\n",
        "  \n",
        "  return model"
      ],
      "metadata": {
        "id": "TZZiAkkUOb81"
      },
      "execution_count": 60,
      "outputs": []
    },
    {
      "cell_type": "code",
      "source": [
        "# Khởi tạo Tuner\n",
        "tuner = kt.Hyperband (build_model, objective=\"val_accuracy\", directory=\"tuner_dir_1\", project_name=\"MLE501_Tuner_1\")"
      ],
      "metadata": {
        "id": "_jzNzE7NT-5O"
      },
      "execution_count": 61,
      "outputs": []
    },
    {
      "cell_type": "code",
      "source": [
        "tuner.search(X_train, y_train, epochs=10, validation_data=(X_val, y_val))"
      ],
      "metadata": {
        "id": "O_njRkaEWHo6"
      },
      "execution_count": 62,
      "outputs": []
    },
    {
      "cell_type": "code",
      "source": [
        "# lấy best model\n",
        "best_model = tuner.get_best_models(num_models=1)[0]\n",
        "\n",
        "best_model.summary()\n",
        "\n",
        "best_model.fit(X_train, y_train, epochs=100, batch_size=8, validation_data=(X_val, y_val))"
      ],
      "metadata": {
        "colab": {
          "base_uri": "https://localhost:8080/"
        },
        "id": "yYYXWVBTZSA9",
        "outputId": "779ecbbd-cd6c-4e12-b885-8580d683b4fd"
      },
      "execution_count": 63,
      "outputs": [
        {
          "output_type": "stream",
          "name": "stdout",
          "text": [
            "Model: \"sequential\"\n",
            "_________________________________________________________________\n",
            " Layer (type)                Output Shape              Param #   \n",
            "=================================================================\n",
            " dense (Dense)               (None, 64)                576       \n",
            "                                                                 \n",
            " dense_1 (Dense)             (None, 24)                1560      \n",
            "                                                                 \n",
            " dense_2 (Dense)             (None, 16)                400       \n",
            "                                                                 \n",
            " dense_3 (Dense)             (None, 64)                1088      \n",
            "                                                                 \n",
            " dense_4 (Dense)             (None, 16)                1040      \n",
            "                                                                 \n",
            " dense_5 (Dense)             (None, 1)                 17        \n",
            "                                                                 \n",
            "=================================================================\n",
            "Total params: 4,681\n",
            "Trainable params: 4,681\n",
            "Non-trainable params: 0\n",
            "_________________________________________________________________\n",
            "Epoch 1/100\n",
            "62/62 [==============================] - 2s 9ms/step - loss: 0.5783 - accuracy: 0.7149 - val_loss: 0.5887 - val_accuracy: 0.6667\n",
            "Epoch 2/100\n",
            "62/62 [==============================] - 0s 6ms/step - loss: 0.5454 - accuracy: 0.7251 - val_loss: 0.6058 - val_accuracy: 0.6667\n",
            "Epoch 3/100\n",
            "62/62 [==============================] - 0s 4ms/step - loss: 0.5552 - accuracy: 0.7352 - val_loss: 0.5261 - val_accuracy: 0.7561\n",
            "Epoch 4/100\n",
            "62/62 [==============================] - 0s 4ms/step - loss: 0.6043 - accuracy: 0.7088 - val_loss: 0.5863 - val_accuracy: 0.6667\n",
            "Epoch 5/100\n",
            "62/62 [==============================] - 0s 5ms/step - loss: 0.6364 - accuracy: 0.6802 - val_loss: 0.5865 - val_accuracy: 0.6911\n",
            "Epoch 6/100\n",
            "62/62 [==============================] - 0s 5ms/step - loss: 0.5864 - accuracy: 0.7026 - val_loss: 0.5749 - val_accuracy: 0.6992\n",
            "Epoch 7/100\n",
            "62/62 [==============================] - 0s 5ms/step - loss: 0.5880 - accuracy: 0.6925 - val_loss: 0.6019 - val_accuracy: 0.7073\n",
            "Epoch 8/100\n",
            "62/62 [==============================] - 0s 4ms/step - loss: 0.6310 - accuracy: 0.6680 - val_loss: 0.6038 - val_accuracy: 0.6585\n",
            "Epoch 9/100\n",
            "62/62 [==============================] - 0s 4ms/step - loss: 0.5846 - accuracy: 0.7088 - val_loss: 0.5691 - val_accuracy: 0.6829\n",
            "Epoch 10/100\n",
            "62/62 [==============================] - 0s 5ms/step - loss: 0.6022 - accuracy: 0.7088 - val_loss: 0.7693 - val_accuracy: 0.6179\n",
            "Epoch 11/100\n",
            "62/62 [==============================] - 0s 4ms/step - loss: 0.5868 - accuracy: 0.6904 - val_loss: 0.5562 - val_accuracy: 0.6992\n",
            "Epoch 12/100\n",
            "62/62 [==============================] - 0s 6ms/step - loss: 0.5530 - accuracy: 0.7128 - val_loss: 0.5698 - val_accuracy: 0.6911\n",
            "Epoch 13/100\n",
            "62/62 [==============================] - 0s 5ms/step - loss: 0.5278 - accuracy: 0.7373 - val_loss: 0.5253 - val_accuracy: 0.7480\n",
            "Epoch 14/100\n",
            "62/62 [==============================] - 0s 7ms/step - loss: 0.5219 - accuracy: 0.7271 - val_loss: 0.5244 - val_accuracy: 0.7724\n",
            "Epoch 15/100\n",
            "62/62 [==============================] - 0s 7ms/step - loss: 0.5515 - accuracy: 0.7495 - val_loss: 0.5233 - val_accuracy: 0.7236\n",
            "Epoch 16/100\n",
            "62/62 [==============================] - 0s 6ms/step - loss: 0.5235 - accuracy: 0.7373 - val_loss: 0.4881 - val_accuracy: 0.7724\n",
            "Epoch 17/100\n",
            "62/62 [==============================] - 0s 7ms/step - loss: 0.5464 - accuracy: 0.7434 - val_loss: 0.5252 - val_accuracy: 0.7398\n",
            "Epoch 18/100\n",
            "62/62 [==============================] - 0s 7ms/step - loss: 0.5268 - accuracy: 0.7475 - val_loss: 0.5332 - val_accuracy: 0.7561\n",
            "Epoch 19/100\n",
            "62/62 [==============================] - 1s 9ms/step - loss: 0.5541 - accuracy: 0.7149 - val_loss: 0.4985 - val_accuracy: 0.7642\n",
            "Epoch 20/100\n",
            "62/62 [==============================] - 0s 5ms/step - loss: 0.5333 - accuracy: 0.7332 - val_loss: 0.5228 - val_accuracy: 0.7561\n",
            "Epoch 21/100\n",
            "62/62 [==============================] - 0s 5ms/step - loss: 0.5290 - accuracy: 0.7251 - val_loss: 0.5241 - val_accuracy: 0.7561\n",
            "Epoch 22/100\n",
            "62/62 [==============================] - 0s 5ms/step - loss: 0.5362 - accuracy: 0.7393 - val_loss: 0.5637 - val_accuracy: 0.6911\n",
            "Epoch 23/100\n",
            "62/62 [==============================] - 0s 5ms/step - loss: 0.5299 - accuracy: 0.7393 - val_loss: 0.5156 - val_accuracy: 0.7561\n",
            "Epoch 24/100\n",
            "62/62 [==============================] - 0s 5ms/step - loss: 0.5090 - accuracy: 0.7413 - val_loss: 0.5011 - val_accuracy: 0.7642\n",
            "Epoch 25/100\n",
            "62/62 [==============================] - 0s 5ms/step - loss: 0.5330 - accuracy: 0.7312 - val_loss: 0.5011 - val_accuracy: 0.7724\n",
            "Epoch 26/100\n",
            "62/62 [==============================] - 0s 5ms/step - loss: 0.5533 - accuracy: 0.7006 - val_loss: 0.5786 - val_accuracy: 0.6585\n",
            "Epoch 27/100\n",
            "62/62 [==============================] - 0s 5ms/step - loss: 0.5089 - accuracy: 0.7556 - val_loss: 0.4871 - val_accuracy: 0.7805\n",
            "Epoch 28/100\n",
            "62/62 [==============================] - 0s 5ms/step - loss: 0.5046 - accuracy: 0.7536 - val_loss: 0.5049 - val_accuracy: 0.7724\n",
            "Epoch 29/100\n",
            "62/62 [==============================] - 0s 5ms/step - loss: 0.5755 - accuracy: 0.7393 - val_loss: 0.5212 - val_accuracy: 0.7317\n",
            "Epoch 30/100\n",
            "62/62 [==============================] - 0s 5ms/step - loss: 0.5202 - accuracy: 0.7413 - val_loss: 0.4643 - val_accuracy: 0.7967\n",
            "Epoch 31/100\n",
            "62/62 [==============================] - 0s 5ms/step - loss: 0.4979 - accuracy: 0.7597 - val_loss: 0.4901 - val_accuracy: 0.7886\n",
            "Epoch 32/100\n",
            "62/62 [==============================] - 0s 5ms/step - loss: 0.5197 - accuracy: 0.7291 - val_loss: 0.4940 - val_accuracy: 0.7886\n",
            "Epoch 33/100\n",
            "62/62 [==============================] - 0s 5ms/step - loss: 0.5304 - accuracy: 0.7149 - val_loss: 0.5538 - val_accuracy: 0.7967\n",
            "Epoch 34/100\n",
            "62/62 [==============================] - 0s 5ms/step - loss: 0.5317 - accuracy: 0.7413 - val_loss: 0.5600 - val_accuracy: 0.7073\n",
            "Epoch 35/100\n",
            "62/62 [==============================] - 0s 5ms/step - loss: 0.5222 - accuracy: 0.7454 - val_loss: 0.5610 - val_accuracy: 0.7073\n",
            "Epoch 36/100\n",
            "62/62 [==============================] - 0s 5ms/step - loss: 0.5295 - accuracy: 0.7393 - val_loss: 0.5607 - val_accuracy: 0.6423\n",
            "Epoch 37/100\n",
            "62/62 [==============================] - 0s 5ms/step - loss: 0.5140 - accuracy: 0.7454 - val_loss: 0.5275 - val_accuracy: 0.7561\n",
            "Epoch 38/100\n",
            "62/62 [==============================] - 0s 5ms/step - loss: 0.5284 - accuracy: 0.7434 - val_loss: 0.5207 - val_accuracy: 0.7480\n",
            "Epoch 39/100\n",
            "62/62 [==============================] - 0s 5ms/step - loss: 0.5055 - accuracy: 0.7393 - val_loss: 0.6299 - val_accuracy: 0.6341\n",
            "Epoch 40/100\n",
            "62/62 [==============================] - 0s 5ms/step - loss: 0.5199 - accuracy: 0.7515 - val_loss: 0.4923 - val_accuracy: 0.7398\n",
            "Epoch 41/100\n",
            "62/62 [==============================] - 0s 6ms/step - loss: 0.4905 - accuracy: 0.7719 - val_loss: 0.5289 - val_accuracy: 0.7073\n",
            "Epoch 42/100\n",
            "62/62 [==============================] - 1s 9ms/step - loss: 0.4858 - accuracy: 0.7597 - val_loss: 0.5096 - val_accuracy: 0.7154\n",
            "Epoch 43/100\n",
            "62/62 [==============================] - 1s 8ms/step - loss: 0.4816 - accuracy: 0.7576 - val_loss: 0.5759 - val_accuracy: 0.7236\n",
            "Epoch 44/100\n",
            "62/62 [==============================] - 1s 9ms/step - loss: 0.4868 - accuracy: 0.7699 - val_loss: 0.4655 - val_accuracy: 0.7967\n",
            "Epoch 45/100\n",
            "62/62 [==============================] - 0s 7ms/step - loss: 0.4878 - accuracy: 0.7637 - val_loss: 0.5074 - val_accuracy: 0.7398\n",
            "Epoch 46/100\n",
            "62/62 [==============================] - 0s 8ms/step - loss: 0.5094 - accuracy: 0.7637 - val_loss: 0.5070 - val_accuracy: 0.7398\n",
            "Epoch 47/100\n",
            "62/62 [==============================] - 1s 9ms/step - loss: 0.5102 - accuracy: 0.7475 - val_loss: 0.4788 - val_accuracy: 0.7805\n",
            "Epoch 48/100\n",
            "62/62 [==============================] - 1s 12ms/step - loss: 0.4830 - accuracy: 0.7597 - val_loss: 0.5955 - val_accuracy: 0.6748\n",
            "Epoch 49/100\n",
            "62/62 [==============================] - 1s 13ms/step - loss: 0.5261 - accuracy: 0.7169 - val_loss: 0.5674 - val_accuracy: 0.6585\n",
            "Epoch 50/100\n",
            "62/62 [==============================] - 1s 11ms/step - loss: 0.4941 - accuracy: 0.7352 - val_loss: 0.4883 - val_accuracy: 0.7317\n",
            "Epoch 51/100\n",
            "62/62 [==============================] - 1s 11ms/step - loss: 0.4932 - accuracy: 0.7719 - val_loss: 0.4800 - val_accuracy: 0.7967\n",
            "Epoch 52/100\n",
            "62/62 [==============================] - 1s 8ms/step - loss: 0.4697 - accuracy: 0.7699 - val_loss: 0.5124 - val_accuracy: 0.7724\n",
            "Epoch 53/100\n",
            "62/62 [==============================] - 1s 9ms/step - loss: 0.4726 - accuracy: 0.7576 - val_loss: 0.4615 - val_accuracy: 0.8293\n",
            "Epoch 54/100\n",
            "62/62 [==============================] - 1s 9ms/step - loss: 0.4989 - accuracy: 0.7393 - val_loss: 0.4727 - val_accuracy: 0.7642\n",
            "Epoch 55/100\n",
            "62/62 [==============================] - 1s 10ms/step - loss: 0.4682 - accuracy: 0.7637 - val_loss: 0.4840 - val_accuracy: 0.7724\n",
            "Epoch 56/100\n",
            "62/62 [==============================] - 1s 11ms/step - loss: 0.5114 - accuracy: 0.7352 - val_loss: 0.5575 - val_accuracy: 0.7398\n",
            "Epoch 57/100\n",
            "62/62 [==============================] - 1s 8ms/step - loss: 0.4982 - accuracy: 0.7576 - val_loss: 0.5985 - val_accuracy: 0.7073\n",
            "Epoch 58/100\n",
            "62/62 [==============================] - 1s 11ms/step - loss: 0.5182 - accuracy: 0.7251 - val_loss: 0.5101 - val_accuracy: 0.7317\n",
            "Epoch 59/100\n",
            "62/62 [==============================] - 1s 9ms/step - loss: 0.4960 - accuracy: 0.7475 - val_loss: 0.4859 - val_accuracy: 0.7642\n",
            "Epoch 60/100\n",
            "62/62 [==============================] - 1s 9ms/step - loss: 0.5083 - accuracy: 0.7210 - val_loss: 0.4792 - val_accuracy: 0.7967\n",
            "Epoch 61/100\n",
            "62/62 [==============================] - 1s 11ms/step - loss: 0.4822 - accuracy: 0.7556 - val_loss: 0.5444 - val_accuracy: 0.7480\n",
            "Epoch 62/100\n",
            "62/62 [==============================] - 1s 8ms/step - loss: 0.4682 - accuracy: 0.7719 - val_loss: 0.4958 - val_accuracy: 0.7805\n",
            "Epoch 63/100\n",
            "62/62 [==============================] - 1s 9ms/step - loss: 0.4794 - accuracy: 0.7658 - val_loss: 0.5528 - val_accuracy: 0.7073\n",
            "Epoch 64/100\n",
            "62/62 [==============================] - 1s 10ms/step - loss: 0.4793 - accuracy: 0.7536 - val_loss: 0.5006 - val_accuracy: 0.7317\n",
            "Epoch 65/100\n",
            "62/62 [==============================] - 1s 10ms/step - loss: 0.4762 - accuracy: 0.7556 - val_loss: 0.4847 - val_accuracy: 0.7886\n",
            "Epoch 66/100\n",
            "62/62 [==============================] - 1s 11ms/step - loss: 0.4845 - accuracy: 0.7617 - val_loss: 0.5007 - val_accuracy: 0.7724\n",
            "Epoch 67/100\n",
            "62/62 [==============================] - 0s 7ms/step - loss: 0.4930 - accuracy: 0.7413 - val_loss: 0.4817 - val_accuracy: 0.7317\n",
            "Epoch 68/100\n",
            "62/62 [==============================] - 1s 11ms/step - loss: 0.4729 - accuracy: 0.7800 - val_loss: 0.4576 - val_accuracy: 0.7724\n",
            "Epoch 69/100\n",
            "62/62 [==============================] - 1s 14ms/step - loss: 0.5003 - accuracy: 0.7393 - val_loss: 0.5536 - val_accuracy: 0.7154\n",
            "Epoch 70/100\n",
            "62/62 [==============================] - 1s 9ms/step - loss: 0.5075 - accuracy: 0.7413 - val_loss: 0.5029 - val_accuracy: 0.7398\n",
            "Epoch 71/100\n",
            "62/62 [==============================] - 0s 7ms/step - loss: 0.4754 - accuracy: 0.7739 - val_loss: 0.4983 - val_accuracy: 0.7805\n",
            "Epoch 72/100\n",
            "62/62 [==============================] - 0s 5ms/step - loss: 0.4772 - accuracy: 0.7597 - val_loss: 0.4866 - val_accuracy: 0.7398\n",
            "Epoch 73/100\n",
            "62/62 [==============================] - 0s 5ms/step - loss: 0.4972 - accuracy: 0.7536 - val_loss: 0.4902 - val_accuracy: 0.7561\n",
            "Epoch 74/100\n",
            "62/62 [==============================] - 0s 5ms/step - loss: 0.5064 - accuracy: 0.7597 - val_loss: 0.5216 - val_accuracy: 0.7317\n",
            "Epoch 75/100\n",
            "62/62 [==============================] - 0s 4ms/step - loss: 0.4858 - accuracy: 0.7800 - val_loss: 0.4816 - val_accuracy: 0.7886\n",
            "Epoch 76/100\n",
            "62/62 [==============================] - 0s 4ms/step - loss: 0.4935 - accuracy: 0.7413 - val_loss: 0.5583 - val_accuracy: 0.7154\n",
            "Epoch 77/100\n",
            "62/62 [==============================] - 0s 5ms/step - loss: 0.5008 - accuracy: 0.7699 - val_loss: 0.5043 - val_accuracy: 0.7561\n",
            "Epoch 78/100\n",
            "62/62 [==============================] - 0s 5ms/step - loss: 0.4653 - accuracy: 0.7597 - val_loss: 0.4921 - val_accuracy: 0.7805\n",
            "Epoch 79/100\n",
            "62/62 [==============================] - 0s 4ms/step - loss: 0.4849 - accuracy: 0.7576 - val_loss: 0.5583 - val_accuracy: 0.6992\n",
            "Epoch 80/100\n",
            "62/62 [==============================] - 0s 5ms/step - loss: 0.5025 - accuracy: 0.7434 - val_loss: 0.4997 - val_accuracy: 0.7642\n",
            "Epoch 81/100\n",
            "62/62 [==============================] - 0s 5ms/step - loss: 0.4770 - accuracy: 0.7739 - val_loss: 0.4934 - val_accuracy: 0.7642\n",
            "Epoch 82/100\n",
            "62/62 [==============================] - 0s 4ms/step - loss: 0.5064 - accuracy: 0.7475 - val_loss: 0.5150 - val_accuracy: 0.7154\n",
            "Epoch 83/100\n",
            "62/62 [==============================] - 0s 5ms/step - loss: 0.4807 - accuracy: 0.7800 - val_loss: 0.5249 - val_accuracy: 0.7480\n",
            "Epoch 84/100\n",
            "62/62 [==============================] - 0s 5ms/step - loss: 0.4904 - accuracy: 0.7576 - val_loss: 0.5136 - val_accuracy: 0.7480\n",
            "Epoch 85/100\n",
            "62/62 [==============================] - 0s 4ms/step - loss: 0.4812 - accuracy: 0.7637 - val_loss: 0.5010 - val_accuracy: 0.7724\n",
            "Epoch 86/100\n",
            "62/62 [==============================] - 0s 5ms/step - loss: 0.4637 - accuracy: 0.7760 - val_loss: 0.5061 - val_accuracy: 0.7317\n",
            "Epoch 87/100\n",
            "62/62 [==============================] - 0s 5ms/step - loss: 0.4617 - accuracy: 0.7699 - val_loss: 0.4902 - val_accuracy: 0.7805\n",
            "Epoch 88/100\n",
            "62/62 [==============================] - 0s 5ms/step - loss: 0.4703 - accuracy: 0.7739 - val_loss: 0.5054 - val_accuracy: 0.7967\n",
            "Epoch 89/100\n",
            "62/62 [==============================] - 0s 5ms/step - loss: 0.4716 - accuracy: 0.7800 - val_loss: 0.4947 - val_accuracy: 0.7724\n",
            "Epoch 90/100\n",
            "62/62 [==============================] - 0s 5ms/step - loss: 0.4794 - accuracy: 0.7617 - val_loss: 0.4818 - val_accuracy: 0.7561\n",
            "Epoch 91/100\n",
            "62/62 [==============================] - 0s 5ms/step - loss: 0.4763 - accuracy: 0.7699 - val_loss: 0.4794 - val_accuracy: 0.7480\n",
            "Epoch 92/100\n",
            "62/62 [==============================] - 0s 4ms/step - loss: 0.4754 - accuracy: 0.7821 - val_loss: 0.4925 - val_accuracy: 0.7724\n",
            "Epoch 93/100\n",
            "62/62 [==============================] - 0s 4ms/step - loss: 0.4871 - accuracy: 0.7699 - val_loss: 0.4868 - val_accuracy: 0.7805\n",
            "Epoch 94/100\n",
            "62/62 [==============================] - 0s 4ms/step - loss: 0.4968 - accuracy: 0.7597 - val_loss: 0.5218 - val_accuracy: 0.7642\n",
            "Epoch 95/100\n",
            "62/62 [==============================] - 0s 4ms/step - loss: 0.4654 - accuracy: 0.7739 - val_loss: 0.5054 - val_accuracy: 0.7724\n",
            "Epoch 96/100\n",
            "62/62 [==============================] - 0s 5ms/step - loss: 0.4684 - accuracy: 0.7760 - val_loss: 0.5244 - val_accuracy: 0.7398\n",
            "Epoch 97/100\n",
            "62/62 [==============================] - 0s 5ms/step - loss: 0.4702 - accuracy: 0.7719 - val_loss: 0.5695 - val_accuracy: 0.7317\n",
            "Epoch 98/100\n",
            "62/62 [==============================] - 0s 5ms/step - loss: 0.4874 - accuracy: 0.7597 - val_loss: 0.5050 - val_accuracy: 0.7805\n",
            "Epoch 99/100\n",
            "62/62 [==============================] - 0s 5ms/step - loss: 0.4750 - accuracy: 0.7597 - val_loss: 0.5127 - val_accuracy: 0.7561\n",
            "Epoch 100/100\n",
            "62/62 [==============================] - 0s 4ms/step - loss: 0.4678 - accuracy: 0.7699 - val_loss: 0.4932 - val_accuracy: 0.7561\n"
          ]
        },
        {
          "output_type": "execute_result",
          "data": {
            "text/plain": [
              "<keras.callbacks.History at 0x7f1ffb13f4c0>"
            ]
          },
          "metadata": {},
          "execution_count": 63
        }
      ]
    },
    {
      "cell_type": "code",
      "source": [
        "best_model.save(\"best_model_hp.h5\")"
      ],
      "metadata": {
        "id": "BbFIDJQ1qIq6"
      },
      "execution_count": 64,
      "outputs": []
    },
    {
      "cell_type": "code",
      "source": [
        "loss, accuracy = best_model.evaluate(X_test, y_test)\n",
        "print(\"Best model using Hyperparameter Tuning\")\n",
        "print(\"Loss: \", loss)\n",
        "print(\"Accuracy: \", accuracy)\n",
        "\n",
        "model = load_model(\"model.h5\")\n",
        "loss, accuracy = model.evaluate(X_test, y_test)\n",
        "print(\"Original model\")\n",
        "print(\"Loss: \", loss)\n",
        "print(\"Accuracy: \", accuracy)"
      ],
      "metadata": {
        "colab": {
          "base_uri": "https://localhost:8080/"
        },
        "id": "D7KDfk3zasph",
        "outputId": "b90c7ffa-9b2d-4dd7-ba89-10125f02bd2c"
      },
      "execution_count": 65,
      "outputs": [
        {
          "output_type": "stream",
          "name": "stdout",
          "text": [
            "5/5 [==============================] - 0s 4ms/step - loss: 0.6350 - accuracy: 0.7013\n",
            "Best model using Hyperparameter Tuning\n",
            "Loss:  0.6350305676460266\n",
            "Accuracy:  0.701298713684082\n",
            "5/5 [==============================] - 0s 4ms/step - loss: 0.6234 - accuracy: 0.6948\n",
            "Original model\n",
            "Loss:  0.6233633160591125\n",
            "Accuracy:  0.6948052048683167\n"
          ]
        }
      ]
    },
    {
      "cell_type": "markdown",
      "source": [
        "### So với model ban đầu, model được cải tiến bằng Hyperparameter Tuning đã có sự cải thiện về độ chính xác. Sự thay đổi tạo ra từ việc các Hyperparameter đã được tối ưu có chọn lọc.\n",
        "\n",
        "\n"
      ],
      "metadata": {
        "id": "9MahKuE4bT2P"
      }
    },
    {
      "cell_type": "code",
      "source": [
        "# Từ ban đầu model chỉ có 3 lớp với các thông số như sau:\n",
        "model.summary()"
      ],
      "metadata": {
        "colab": {
          "base_uri": "https://localhost:8080/"
        },
        "id": "EAx5LFRucn3-",
        "outputId": "3db2ef09-9602-49a7-a5e2-3c0c8bea3f95"
      },
      "execution_count": 66,
      "outputs": [
        {
          "output_type": "stream",
          "name": "stdout",
          "text": [
            "Model: \"sequential_1\"\n",
            "_________________________________________________________________\n",
            " Layer (type)                Output Shape              Param #   \n",
            "=================================================================\n",
            " dense_6 (Dense)             (None, 16)                144       \n",
            "                                                                 \n",
            " dense_7 (Dense)             (None, 8)                 136       \n",
            "                                                                 \n",
            " dense_8 (Dense)             (None, 1)                 9         \n",
            "                                                                 \n",
            "=================================================================\n",
            "Total params: 289\n",
            "Trainable params: 289\n",
            "Non-trainable params: 0\n",
            "_________________________________________________________________\n"
          ]
        }
      ]
    },
    {
      "cell_type": "code",
      "source": [
        "# Model sau khi được tối ưu có 6 lớp với các thông số sau:\n",
        "best_model.summary()"
      ],
      "metadata": {
        "colab": {
          "base_uri": "https://localhost:8080/"
        },
        "id": "k90Ukiu_dgZ2",
        "outputId": "42a8f0b2-dab0-4577-8c96-e41cf2891356"
      },
      "execution_count": 67,
      "outputs": [
        {
          "output_type": "stream",
          "name": "stdout",
          "text": [
            "Model: \"sequential\"\n",
            "_________________________________________________________________\n",
            " Layer (type)                Output Shape              Param #   \n",
            "=================================================================\n",
            " dense (Dense)               (None, 64)                576       \n",
            "                                                                 \n",
            " dense_1 (Dense)             (None, 24)                1560      \n",
            "                                                                 \n",
            " dense_2 (Dense)             (None, 16)                400       \n",
            "                                                                 \n",
            " dense_3 (Dense)             (None, 64)                1088      \n",
            "                                                                 \n",
            " dense_4 (Dense)             (None, 16)                1040      \n",
            "                                                                 \n",
            " dense_5 (Dense)             (None, 1)                 17        \n",
            "                                                                 \n",
            "=================================================================\n",
            "Total params: 4,681\n",
            "Trainable params: 4,681\n",
            "Non-trainable params: 0\n",
            "_________________________________________________________________\n"
          ]
        }
      ]
    },
    {
      "cell_type": "markdown",
      "source": [
        "## Sử dụng Regularization (L2 Regularization)"
      ],
      "metadata": {
        "id": "R7mCUbOYd7PI"
      }
    },
    {
      "cell_type": "code",
      "source": [
        "from keras import regularizers"
      ],
      "metadata": {
        "id": "LuZD0gZFeHKz"
      },
      "execution_count": 68,
      "outputs": []
    },
    {
      "cell_type": "code",
      "source": [
        "#áp dụng  với hệ số lambda là 0.01 cho cả 2 lớp Dense đầu tiên của kiến trúc mạng neural. \n",
        "\n",
        "model = Sequential()\n",
        "model.add(Dense(16, input_dim=8, activation='relu', kernel_regularizer=regularizers.l2(0.01)))\n",
        "model.add(Dense(8, activation='relu', kernel_regularizer=regularizers.l2(0.01)))\n",
        "model.add(Dense(1, activation='sigmoid'))\n",
        "\n",
        "model.compile(loss='binary_crossentropy', optimizer='adam', metrics=['accuracy'])\n",
        "model.fit(X_train, y_train, epochs=100, batch_size=8, validation_data=(X_val, y_val))"
      ],
      "metadata": {
        "colab": {
          "base_uri": "https://localhost:8080/"
        },
        "id": "qtzygwGQeOVN",
        "outputId": "f73f9cfd-92df-4014-9320-adc47461a4d4"
      },
      "execution_count": 69,
      "outputs": [
        {
          "output_type": "stream",
          "name": "stdout",
          "text": [
            "Epoch 1/100\n",
            "62/62 [==============================] - 2s 10ms/step - loss: 5.1253 - accuracy: 0.4582 - val_loss: 2.6120 - val_accuracy: 0.5285\n",
            "Epoch 2/100\n",
            "62/62 [==============================] - 0s 7ms/step - loss: 1.6584 - accuracy: 0.5642 - val_loss: 1.3408 - val_accuracy: 0.5691\n",
            "Epoch 3/100\n",
            "62/62 [==============================] - 0s 7ms/step - loss: 1.0960 - accuracy: 0.5784 - val_loss: 1.0640 - val_accuracy: 0.6260\n",
            "Epoch 4/100\n",
            "62/62 [==============================] - 0s 5ms/step - loss: 0.9855 - accuracy: 0.6273 - val_loss: 0.9708 - val_accuracy: 0.6585\n",
            "Epoch 5/100\n",
            "62/62 [==============================] - 0s 4ms/step - loss: 0.9293 - accuracy: 0.6232 - val_loss: 0.8660 - val_accuracy: 0.6667\n",
            "Epoch 6/100\n",
            "62/62 [==============================] - 0s 4ms/step - loss: 0.8735 - accuracy: 0.6517 - val_loss: 0.9272 - val_accuracy: 0.6504\n",
            "Epoch 7/100\n",
            "62/62 [==============================] - 0s 5ms/step - loss: 0.8720 - accuracy: 0.6436 - val_loss: 0.9117 - val_accuracy: 0.6829\n",
            "Epoch 8/100\n",
            "62/62 [==============================] - 0s 5ms/step - loss: 0.8374 - accuracy: 0.6864 - val_loss: 0.8450 - val_accuracy: 0.6098\n",
            "Epoch 9/100\n",
            "62/62 [==============================] - 0s 4ms/step - loss: 0.8030 - accuracy: 0.6640 - val_loss: 0.8195 - val_accuracy: 0.6667\n",
            "Epoch 10/100\n",
            "62/62 [==============================] - 0s 4ms/step - loss: 0.8070 - accuracy: 0.6558 - val_loss: 0.7801 - val_accuracy: 0.7073\n",
            "Epoch 11/100\n",
            "62/62 [==============================] - 0s 5ms/step - loss: 0.7691 - accuracy: 0.7067 - val_loss: 0.8073 - val_accuracy: 0.6423\n",
            "Epoch 12/100\n",
            "62/62 [==============================] - 0s 4ms/step - loss: 0.7797 - accuracy: 0.6701 - val_loss: 0.8374 - val_accuracy: 0.6992\n",
            "Epoch 13/100\n",
            "62/62 [==============================] - 0s 4ms/step - loss: 0.7820 - accuracy: 0.6864 - val_loss: 0.8376 - val_accuracy: 0.7073\n",
            "Epoch 14/100\n",
            "62/62 [==============================] - 0s 5ms/step - loss: 0.7902 - accuracy: 0.6823 - val_loss: 0.7510 - val_accuracy: 0.7154\n",
            "Epoch 15/100\n",
            "62/62 [==============================] - 0s 5ms/step - loss: 0.7678 - accuracy: 0.6965 - val_loss: 0.7891 - val_accuracy: 0.6423\n",
            "Epoch 16/100\n",
            "62/62 [==============================] - 0s 7ms/step - loss: 0.7427 - accuracy: 0.6884 - val_loss: 0.7394 - val_accuracy: 0.6829\n",
            "Epoch 17/100\n",
            "62/62 [==============================] - 0s 5ms/step - loss: 0.7395 - accuracy: 0.7026 - val_loss: 0.7999 - val_accuracy: 0.6667\n",
            "Epoch 18/100\n",
            "62/62 [==============================] - 0s 5ms/step - loss: 0.7213 - accuracy: 0.6986 - val_loss: 0.7341 - val_accuracy: 0.6992\n",
            "Epoch 19/100\n",
            "62/62 [==============================] - 0s 4ms/step - loss: 0.7236 - accuracy: 0.6965 - val_loss: 0.7610 - val_accuracy: 0.6992\n",
            "Epoch 20/100\n",
            "62/62 [==============================] - 0s 4ms/step - loss: 0.7508 - accuracy: 0.7047 - val_loss: 0.7248 - val_accuracy: 0.6911\n",
            "Epoch 21/100\n",
            "62/62 [==============================] - 0s 5ms/step - loss: 0.7169 - accuracy: 0.7128 - val_loss: 0.7113 - val_accuracy: 0.7073\n",
            "Epoch 22/100\n",
            "62/62 [==============================] - 0s 5ms/step - loss: 0.7111 - accuracy: 0.7352 - val_loss: 0.6907 - val_accuracy: 0.6911\n",
            "Epoch 23/100\n",
            "62/62 [==============================] - 0s 4ms/step - loss: 0.6966 - accuracy: 0.7047 - val_loss: 0.6725 - val_accuracy: 0.6911\n",
            "Epoch 24/100\n",
            "62/62 [==============================] - 0s 5ms/step - loss: 0.7793 - accuracy: 0.6782 - val_loss: 0.7674 - val_accuracy: 0.6748\n",
            "Epoch 25/100\n",
            "62/62 [==============================] - 0s 5ms/step - loss: 0.7186 - accuracy: 0.7067 - val_loss: 0.7022 - val_accuracy: 0.7398\n",
            "Epoch 26/100\n",
            "62/62 [==============================] - 0s 4ms/step - loss: 0.6884 - accuracy: 0.7230 - val_loss: 0.6945 - val_accuracy: 0.7154\n",
            "Epoch 27/100\n",
            "62/62 [==============================] - 0s 5ms/step - loss: 0.7020 - accuracy: 0.6925 - val_loss: 0.7160 - val_accuracy: 0.7073\n",
            "Epoch 28/100\n",
            "62/62 [==============================] - 0s 5ms/step - loss: 0.6732 - accuracy: 0.7251 - val_loss: 0.6860 - val_accuracy: 0.6748\n",
            "Epoch 29/100\n",
            "62/62 [==============================] - 0s 5ms/step - loss: 0.6703 - accuracy: 0.7149 - val_loss: 0.8044 - val_accuracy: 0.6667\n",
            "Epoch 30/100\n",
            "62/62 [==============================] - 0s 4ms/step - loss: 0.6705 - accuracy: 0.7291 - val_loss: 0.8194 - val_accuracy: 0.7073\n",
            "Epoch 31/100\n",
            "62/62 [==============================] - 0s 5ms/step - loss: 0.6962 - accuracy: 0.7230 - val_loss: 0.6611 - val_accuracy: 0.7561\n",
            "Epoch 32/100\n",
            "62/62 [==============================] - 0s 5ms/step - loss: 0.6734 - accuracy: 0.7393 - val_loss: 0.7618 - val_accuracy: 0.6585\n",
            "Epoch 33/100\n",
            "62/62 [==============================] - 0s 4ms/step - loss: 0.6701 - accuracy: 0.7251 - val_loss: 0.7088 - val_accuracy: 0.6829\n",
            "Epoch 34/100\n",
            "62/62 [==============================] - 0s 5ms/step - loss: 0.7221 - accuracy: 0.7088 - val_loss: 0.6897 - val_accuracy: 0.7154\n",
            "Epoch 35/100\n",
            "62/62 [==============================] - 0s 5ms/step - loss: 0.6797 - accuracy: 0.7312 - val_loss: 0.7442 - val_accuracy: 0.6585\n",
            "Epoch 36/100\n",
            "62/62 [==============================] - 0s 5ms/step - loss: 0.6675 - accuracy: 0.7454 - val_loss: 0.6523 - val_accuracy: 0.7073\n",
            "Epoch 37/100\n",
            "62/62 [==============================] - 0s 6ms/step - loss: 0.6514 - accuracy: 0.7312 - val_loss: 0.6402 - val_accuracy: 0.7317\n",
            "Epoch 38/100\n",
            "62/62 [==============================] - 1s 11ms/step - loss: 0.6558 - accuracy: 0.7312 - val_loss: 0.6937 - val_accuracy: 0.6992\n",
            "Epoch 39/100\n",
            "62/62 [==============================] - 1s 12ms/step - loss: 0.6891 - accuracy: 0.7128 - val_loss: 0.6516 - val_accuracy: 0.7317\n",
            "Epoch 40/100\n",
            "62/62 [==============================] - 1s 11ms/step - loss: 0.6411 - accuracy: 0.7413 - val_loss: 0.6569 - val_accuracy: 0.7154\n",
            "Epoch 41/100\n",
            "62/62 [==============================] - 1s 10ms/step - loss: 0.6599 - accuracy: 0.7006 - val_loss: 0.7321 - val_accuracy: 0.6748\n",
            "Epoch 42/100\n",
            "62/62 [==============================] - 0s 7ms/step - loss: 0.6962 - accuracy: 0.7088 - val_loss: 0.6268 - val_accuracy: 0.7154\n",
            "Epoch 43/100\n",
            "62/62 [==============================] - 0s 7ms/step - loss: 0.6537 - accuracy: 0.7332 - val_loss: 0.6318 - val_accuracy: 0.7480\n",
            "Epoch 44/100\n",
            "62/62 [==============================] - 1s 8ms/step - loss: 0.6581 - accuracy: 0.7251 - val_loss: 0.6365 - val_accuracy: 0.7561\n",
            "Epoch 45/100\n",
            "62/62 [==============================] - 0s 7ms/step - loss: 0.6383 - accuracy: 0.7475 - val_loss: 0.7602 - val_accuracy: 0.6911\n",
            "Epoch 46/100\n",
            "62/62 [==============================] - 0s 7ms/step - loss: 0.6944 - accuracy: 0.7230 - val_loss: 0.7398 - val_accuracy: 0.7317\n",
            "Epoch 47/100\n",
            "62/62 [==============================] - 1s 9ms/step - loss: 0.6534 - accuracy: 0.7393 - val_loss: 0.6786 - val_accuracy: 0.7480\n",
            "Epoch 48/100\n",
            "62/62 [==============================] - 0s 7ms/step - loss: 0.6989 - accuracy: 0.7149 - val_loss: 0.7871 - val_accuracy: 0.6260\n",
            "Epoch 49/100\n",
            "62/62 [==============================] - 1s 9ms/step - loss: 0.6494 - accuracy: 0.7332 - val_loss: 0.6733 - val_accuracy: 0.7236\n",
            "Epoch 50/100\n",
            "62/62 [==============================] - 1s 9ms/step - loss: 0.6719 - accuracy: 0.7271 - val_loss: 0.6428 - val_accuracy: 0.7398\n",
            "Epoch 51/100\n",
            "62/62 [==============================] - 1s 9ms/step - loss: 0.6754 - accuracy: 0.7352 - val_loss: 0.6344 - val_accuracy: 0.7154\n",
            "Epoch 52/100\n",
            "62/62 [==============================] - 0s 7ms/step - loss: 0.6438 - accuracy: 0.7373 - val_loss: 0.6165 - val_accuracy: 0.7805\n",
            "Epoch 53/100\n",
            "62/62 [==============================] - 1s 10ms/step - loss: 0.6590 - accuracy: 0.7352 - val_loss: 0.6545 - val_accuracy: 0.7073\n",
            "Epoch 54/100\n",
            "62/62 [==============================] - 1s 10ms/step - loss: 0.6397 - accuracy: 0.7637 - val_loss: 0.6229 - val_accuracy: 0.7561\n",
            "Epoch 55/100\n",
            "62/62 [==============================] - 1s 9ms/step - loss: 0.6273 - accuracy: 0.7434 - val_loss: 0.7178 - val_accuracy: 0.6992\n",
            "Epoch 56/100\n",
            "62/62 [==============================] - 1s 9ms/step - loss: 0.6466 - accuracy: 0.7312 - val_loss: 0.7040 - val_accuracy: 0.6585\n",
            "Epoch 57/100\n",
            "62/62 [==============================] - 1s 9ms/step - loss: 0.6383 - accuracy: 0.7454 - val_loss: 0.6469 - val_accuracy: 0.6911\n",
            "Epoch 58/100\n",
            "62/62 [==============================] - 1s 8ms/step - loss: 0.6237 - accuracy: 0.7352 - val_loss: 0.6512 - val_accuracy: 0.7073\n",
            "Epoch 59/100\n",
            "62/62 [==============================] - 1s 9ms/step - loss: 0.6228 - accuracy: 0.7454 - val_loss: 0.6606 - val_accuracy: 0.7154\n",
            "Epoch 60/100\n",
            "62/62 [==============================] - 1s 10ms/step - loss: 0.6130 - accuracy: 0.7515 - val_loss: 0.6201 - val_accuracy: 0.7480\n",
            "Epoch 61/100\n",
            "62/62 [==============================] - 1s 13ms/step - loss: 0.6620 - accuracy: 0.7291 - val_loss: 0.7109 - val_accuracy: 0.7073\n",
            "Epoch 62/100\n",
            "62/62 [==============================] - 1s 14ms/step - loss: 0.6506 - accuracy: 0.7291 - val_loss: 0.6779 - val_accuracy: 0.7073\n",
            "Epoch 63/100\n",
            "62/62 [==============================] - 1s 11ms/step - loss: 0.6245 - accuracy: 0.7617 - val_loss: 0.7855 - val_accuracy: 0.6667\n",
            "Epoch 64/100\n",
            "62/62 [==============================] - 1s 9ms/step - loss: 0.6437 - accuracy: 0.7230 - val_loss: 0.6386 - val_accuracy: 0.7317\n",
            "Epoch 65/100\n",
            "62/62 [==============================] - 1s 8ms/step - loss: 0.6370 - accuracy: 0.7373 - val_loss: 0.6174 - val_accuracy: 0.7154\n",
            "Epoch 66/100\n",
            "62/62 [==============================] - 0s 6ms/step - loss: 0.6251 - accuracy: 0.7434 - val_loss: 0.6017 - val_accuracy: 0.7805\n",
            "Epoch 67/100\n",
            "62/62 [==============================] - 1s 10ms/step - loss: 0.6683 - accuracy: 0.7393 - val_loss: 0.6833 - val_accuracy: 0.7073\n",
            "Epoch 68/100\n",
            "62/62 [==============================] - 1s 11ms/step - loss: 0.6352 - accuracy: 0.7251 - val_loss: 0.6228 - val_accuracy: 0.7398\n",
            "Epoch 69/100\n",
            "62/62 [==============================] - 1s 12ms/step - loss: 0.6004 - accuracy: 0.7536 - val_loss: 0.7162 - val_accuracy: 0.6748\n",
            "Epoch 70/100\n",
            "62/62 [==============================] - 1s 8ms/step - loss: 0.6363 - accuracy: 0.7475 - val_loss: 0.6026 - val_accuracy: 0.7236\n",
            "Epoch 71/100\n",
            "62/62 [==============================] - 1s 12ms/step - loss: 0.6055 - accuracy: 0.7475 - val_loss: 0.6187 - val_accuracy: 0.7480\n",
            "Epoch 72/100\n",
            "62/62 [==============================] - 1s 10ms/step - loss: 0.6124 - accuracy: 0.7413 - val_loss: 0.6657 - val_accuracy: 0.6911\n",
            "Epoch 73/100\n",
            "62/62 [==============================] - 0s 7ms/step - loss: 0.6107 - accuracy: 0.7515 - val_loss: 0.6414 - val_accuracy: 0.7154\n",
            "Epoch 74/100\n",
            "62/62 [==============================] - 0s 5ms/step - loss: 0.6223 - accuracy: 0.7413 - val_loss: 0.5975 - val_accuracy: 0.7317\n",
            "Epoch 75/100\n",
            "62/62 [==============================] - 0s 5ms/step - loss: 0.6351 - accuracy: 0.7515 - val_loss: 0.6997 - val_accuracy: 0.7317\n",
            "Epoch 76/100\n",
            "62/62 [==============================] - 0s 5ms/step - loss: 0.6487 - accuracy: 0.7495 - val_loss: 0.6242 - val_accuracy: 0.7642\n",
            "Epoch 77/100\n",
            "62/62 [==============================] - 0s 4ms/step - loss: 0.6274 - accuracy: 0.7271 - val_loss: 0.6095 - val_accuracy: 0.7317\n",
            "Epoch 78/100\n",
            "62/62 [==============================] - 0s 5ms/step - loss: 0.6110 - accuracy: 0.7434 - val_loss: 0.6067 - val_accuracy: 0.7317\n",
            "Epoch 79/100\n",
            "62/62 [==============================] - 0s 5ms/step - loss: 0.6248 - accuracy: 0.7536 - val_loss: 0.6111 - val_accuracy: 0.7642\n",
            "Epoch 80/100\n",
            "62/62 [==============================] - 0s 5ms/step - loss: 0.6184 - accuracy: 0.7536 - val_loss: 0.7909 - val_accuracy: 0.6179\n",
            "Epoch 81/100\n",
            "62/62 [==============================] - 0s 5ms/step - loss: 0.6524 - accuracy: 0.7332 - val_loss: 0.6242 - val_accuracy: 0.6992\n",
            "Epoch 82/100\n",
            "62/62 [==============================] - 0s 5ms/step - loss: 0.6285 - accuracy: 0.7291 - val_loss: 0.6201 - val_accuracy: 0.7073\n",
            "Epoch 83/100\n",
            "62/62 [==============================] - 0s 5ms/step - loss: 0.6007 - accuracy: 0.7576 - val_loss: 0.5876 - val_accuracy: 0.7642\n",
            "Epoch 84/100\n",
            "62/62 [==============================] - 0s 5ms/step - loss: 0.6196 - accuracy: 0.7332 - val_loss: 0.5861 - val_accuracy: 0.7317\n",
            "Epoch 85/100\n",
            "62/62 [==============================] - 0s 5ms/step - loss: 0.6100 - accuracy: 0.7556 - val_loss: 0.6419 - val_accuracy: 0.7480\n",
            "Epoch 86/100\n",
            "62/62 [==============================] - 0s 5ms/step - loss: 0.6006 - accuracy: 0.7576 - val_loss: 0.8290 - val_accuracy: 0.6585\n",
            "Epoch 87/100\n",
            "62/62 [==============================] - 0s 6ms/step - loss: 0.6323 - accuracy: 0.7373 - val_loss: 0.5948 - val_accuracy: 0.7236\n",
            "Epoch 88/100\n",
            "62/62 [==============================] - 0s 7ms/step - loss: 0.6129 - accuracy: 0.7536 - val_loss: 0.5985 - val_accuracy: 0.8130\n",
            "Epoch 89/100\n",
            "62/62 [==============================] - 0s 7ms/step - loss: 0.6153 - accuracy: 0.7637 - val_loss: 0.6176 - val_accuracy: 0.7642\n",
            "Epoch 90/100\n",
            "62/62 [==============================] - 0s 7ms/step - loss: 0.6017 - accuracy: 0.7291 - val_loss: 0.6102 - val_accuracy: 0.7398\n",
            "Epoch 91/100\n",
            "62/62 [==============================] - 0s 7ms/step - loss: 0.5980 - accuracy: 0.7536 - val_loss: 0.5962 - val_accuracy: 0.7967\n",
            "Epoch 92/100\n",
            "62/62 [==============================] - 0s 7ms/step - loss: 0.5865 - accuracy: 0.7515 - val_loss: 0.6090 - val_accuracy: 0.7561\n",
            "Epoch 93/100\n",
            "62/62 [==============================] - 0s 5ms/step - loss: 0.6222 - accuracy: 0.7413 - val_loss: 0.6299 - val_accuracy: 0.7154\n",
            "Epoch 94/100\n",
            "62/62 [==============================] - 0s 4ms/step - loss: 0.5951 - accuracy: 0.7434 - val_loss: 0.6664 - val_accuracy: 0.6911\n",
            "Epoch 95/100\n",
            "62/62 [==============================] - 0s 5ms/step - loss: 0.5939 - accuracy: 0.7597 - val_loss: 0.6379 - val_accuracy: 0.7561\n",
            "Epoch 96/100\n",
            "62/62 [==============================] - 0s 4ms/step - loss: 0.5823 - accuracy: 0.7597 - val_loss: 0.6079 - val_accuracy: 0.7561\n",
            "Epoch 97/100\n",
            "62/62 [==============================] - 0s 5ms/step - loss: 0.5966 - accuracy: 0.7678 - val_loss: 0.6026 - val_accuracy: 0.7154\n",
            "Epoch 98/100\n",
            "62/62 [==============================] - 0s 4ms/step - loss: 0.6098 - accuracy: 0.7352 - val_loss: 0.6668 - val_accuracy: 0.7236\n",
            "Epoch 99/100\n",
            "62/62 [==============================] - 0s 5ms/step - loss: 0.6112 - accuracy: 0.7495 - val_loss: 0.5967 - val_accuracy: 0.7561\n",
            "Epoch 100/100\n",
            "62/62 [==============================] - 0s 5ms/step - loss: 0.5944 - accuracy: 0.7515 - val_loss: 0.5908 - val_accuracy: 0.7561\n"
          ]
        },
        {
          "output_type": "execute_result",
          "data": {
            "text/plain": [
              "<keras.callbacks.History at 0x7f1ffa8287c0>"
            ]
          },
          "metadata": {},
          "execution_count": 69
        }
      ]
    },
    {
      "cell_type": "code",
      "source": [
        "model.save(\"best_model_regularization.h5\")"
      ],
      "metadata": {
        "id": "wKHLMPeWqT6S"
      },
      "execution_count": 70,
      "outputs": []
    },
    {
      "cell_type": "code",
      "source": [
        "loss, accuracy = model.evaluate(X_test, y_test)\n",
        "print(\"Best model using Regularization (L2 Regularization)\")\n",
        "print(\"Loss: \", loss)\n",
        "print(\"Accuracy: \", accuracy)\n",
        "\n",
        "original = load_model(\"model.h5\")\n",
        "loss, accuracy = original.evaluate(X_test, y_test)\n",
        "print(\"Original model\")\n",
        "print(\"Loss: \", loss)\n",
        "print(\"Accuracy: \", accuracy)"
      ],
      "metadata": {
        "colab": {
          "base_uri": "https://localhost:8080/"
        },
        "id": "kmmpHoXae4XB",
        "outputId": "fb82f59f-4995-470e-ce75-7206fb8be926"
      },
      "execution_count": 71,
      "outputs": [
        {
          "output_type": "stream",
          "name": "stdout",
          "text": [
            "5/5 [==============================] - 0s 4ms/step - loss: 0.6203 - accuracy: 0.7143\n",
            "Best model using Regularization (L2 Regularization)\n",
            "Loss:  0.6203097701072693\n",
            "Accuracy:  0.7142857313156128\n",
            "5/5 [==============================] - 0s 4ms/step - loss: 0.6234 - accuracy: 0.6948\n",
            "Original model\n",
            "Loss:  0.6233633160591125\n",
            "Accuracy:  0.6948052048683167\n"
          ]
        }
      ]
    },
    {
      "cell_type": "markdown",
      "source": [
        "### So với model ban đầu, model được cải tiến bằng Regularization đã có sự cải thiện về độ chính xác, cụ thể ở đây em dùng kỹ thuật L2 Regularization. Sự thay đổi tạo ra từ việc thêm một thành phần bình phương của các trọng số vào hàm mất mát. Việc này sẽ làm cho các trọng số nhỏ hơn, dẫn đến mô hình đơn giản hơn và tránh được việc bị overfitting."
      ],
      "metadata": {
        "id": "KfyDN-5Cf0zY"
      }
    },
    {
      "cell_type": "markdown",
      "source": [
        "## Sử dụng Optimization (Adam -> RMSprop)"
      ],
      "metadata": {
        "id": "3bqYas4liwU6"
      }
    },
    {
      "cell_type": "code",
      "source": [
        "model = Sequential()\n",
        "model.add(Dense(16, input_dim=8, activation='relu', kernel_regularizer=regularizers.l2(0.01)))\n",
        "model.add(Dense(8, activation='relu', kernel_regularizer=regularizers.l2(0.01)))\n",
        "model.add(Dense(1, activation='sigmoid'))\n",
        "\n",
        "model.compile(loss='binary_crossentropy', optimizer=RMSprop(learning_rate=0.001), metrics=['accuracy'])\n",
        "model.fit(X_train, y_train, epochs=100, batch_size=8, validation_data=(X_val, y_val))"
      ],
      "metadata": {
        "colab": {
          "base_uri": "https://localhost:8080/"
        },
        "id": "-XjBSfcjifxc",
        "outputId": "5522da35-f627-4904-e8af-9a2d52eff2d4"
      },
      "execution_count": 72,
      "outputs": [
        {
          "output_type": "stream",
          "name": "stdout",
          "text": [
            "Epoch 1/100\n",
            "62/62 [==============================] - 1s 7ms/step - loss: 15.1581 - accuracy: 0.3544 - val_loss: 5.5845 - val_accuracy: 0.4715\n",
            "Epoch 2/100\n",
            "62/62 [==============================] - 0s 4ms/step - loss: 3.1129 - accuracy: 0.5295 - val_loss: 1.4897 - val_accuracy: 0.5854\n",
            "Epoch 3/100\n",
            "62/62 [==============================] - 0s 5ms/step - loss: 1.1565 - accuracy: 0.5927 - val_loss: 1.0906 - val_accuracy: 0.6098\n",
            "Epoch 4/100\n",
            "62/62 [==============================] - 0s 4ms/step - loss: 1.0262 - accuracy: 0.5967 - val_loss: 0.9847 - val_accuracy: 0.6748\n",
            "Epoch 5/100\n",
            "62/62 [==============================] - 0s 6ms/step - loss: 0.9598 - accuracy: 0.6110 - val_loss: 0.9427 - val_accuracy: 0.6423\n",
            "Epoch 6/100\n",
            "62/62 [==============================] - 0s 7ms/step - loss: 0.9146 - accuracy: 0.6130 - val_loss: 0.9021 - val_accuracy: 0.6504\n",
            "Epoch 7/100\n",
            "62/62 [==============================] - 0s 6ms/step - loss: 0.8755 - accuracy: 0.6232 - val_loss: 0.8616 - val_accuracy: 0.6585\n",
            "Epoch 8/100\n",
            "62/62 [==============================] - 0s 7ms/step - loss: 0.8463 - accuracy: 0.6354 - val_loss: 1.1238 - val_accuracy: 0.6260\n",
            "Epoch 9/100\n",
            "62/62 [==============================] - 0s 7ms/step - loss: 0.8684 - accuracy: 0.6517 - val_loss: 0.8892 - val_accuracy: 0.6504\n",
            "Epoch 10/100\n",
            "62/62 [==============================] - 0s 6ms/step - loss: 0.8227 - accuracy: 0.6558 - val_loss: 0.9331 - val_accuracy: 0.6504\n",
            "Epoch 11/100\n",
            "62/62 [==============================] - 0s 5ms/step - loss: 0.8055 - accuracy: 0.6375 - val_loss: 0.7921 - val_accuracy: 0.6585\n",
            "Epoch 12/100\n",
            "62/62 [==============================] - 0s 4ms/step - loss: 0.7757 - accuracy: 0.6538 - val_loss: 0.7634 - val_accuracy: 0.6992\n",
            "Epoch 13/100\n",
            "62/62 [==============================] - 0s 4ms/step - loss: 0.7709 - accuracy: 0.6680 - val_loss: 0.8829 - val_accuracy: 0.6016\n",
            "Epoch 14/100\n",
            "62/62 [==============================] - 0s 4ms/step - loss: 0.7623 - accuracy: 0.6436 - val_loss: 0.8914 - val_accuracy: 0.6260\n",
            "Epoch 15/100\n",
            "62/62 [==============================] - 0s 5ms/step - loss: 0.7708 - accuracy: 0.6436 - val_loss: 0.8630 - val_accuracy: 0.6260\n",
            "Epoch 16/100\n",
            "62/62 [==============================] - 0s 5ms/step - loss: 0.7567 - accuracy: 0.6823 - val_loss: 0.8192 - val_accuracy: 0.6504\n",
            "Epoch 17/100\n",
            "62/62 [==============================] - 0s 5ms/step - loss: 0.7375 - accuracy: 0.6619 - val_loss: 0.7675 - val_accuracy: 0.6748\n",
            "Epoch 18/100\n",
            "62/62 [==============================] - 0s 4ms/step - loss: 0.7398 - accuracy: 0.6517 - val_loss: 0.7592 - val_accuracy: 0.6992\n",
            "Epoch 19/100\n",
            "62/62 [==============================] - 0s 4ms/step - loss: 0.7237 - accuracy: 0.6762 - val_loss: 0.7533 - val_accuracy: 0.6829\n",
            "Epoch 20/100\n",
            "62/62 [==============================] - 0s 4ms/step - loss: 0.7249 - accuracy: 0.7006 - val_loss: 0.7008 - val_accuracy: 0.6829\n",
            "Epoch 21/100\n",
            "62/62 [==============================] - 0s 4ms/step - loss: 0.7176 - accuracy: 0.6823 - val_loss: 0.7034 - val_accuracy: 0.6911\n",
            "Epoch 22/100\n",
            "62/62 [==============================] - 0s 4ms/step - loss: 0.7116 - accuracy: 0.6843 - val_loss: 0.8156 - val_accuracy: 0.6504\n",
            "Epoch 23/100\n",
            "62/62 [==============================] - 0s 5ms/step - loss: 0.7064 - accuracy: 0.6986 - val_loss: 0.7128 - val_accuracy: 0.6748\n",
            "Epoch 24/100\n",
            "62/62 [==============================] - 0s 5ms/step - loss: 0.7014 - accuracy: 0.6741 - val_loss: 0.6963 - val_accuracy: 0.6911\n",
            "Epoch 25/100\n",
            "62/62 [==============================] - 0s 4ms/step - loss: 0.6992 - accuracy: 0.6884 - val_loss: 0.7775 - val_accuracy: 0.6585\n",
            "Epoch 26/100\n",
            "62/62 [==============================] - 0s 5ms/step - loss: 0.6824 - accuracy: 0.7047 - val_loss: 0.7417 - val_accuracy: 0.6504\n",
            "Epoch 27/100\n",
            "62/62 [==============================] - 0s 5ms/step - loss: 0.7004 - accuracy: 0.6925 - val_loss: 0.7730 - val_accuracy: 0.6748\n",
            "Epoch 28/100\n",
            "62/62 [==============================] - 0s 5ms/step - loss: 0.6896 - accuracy: 0.6802 - val_loss: 0.6678 - val_accuracy: 0.6829\n",
            "Epoch 29/100\n",
            "62/62 [==============================] - 0s 5ms/step - loss: 0.6868 - accuracy: 0.6925 - val_loss: 0.6785 - val_accuracy: 0.6992\n",
            "Epoch 30/100\n",
            "62/62 [==============================] - 0s 5ms/step - loss: 0.6887 - accuracy: 0.6884 - val_loss: 0.6693 - val_accuracy: 0.7236\n",
            "Epoch 31/100\n",
            "62/62 [==============================] - 0s 5ms/step - loss: 0.6819 - accuracy: 0.7128 - val_loss: 0.6807 - val_accuracy: 0.6748\n",
            "Epoch 32/100\n",
            "62/62 [==============================] - 0s 6ms/step - loss: 0.6836 - accuracy: 0.6945 - val_loss: 0.6683 - val_accuracy: 0.7480\n",
            "Epoch 33/100\n",
            "62/62 [==============================] - 0s 4ms/step - loss: 0.6715 - accuracy: 0.6945 - val_loss: 0.7792 - val_accuracy: 0.6748\n",
            "Epoch 34/100\n",
            "62/62 [==============================] - 0s 6ms/step - loss: 0.6838 - accuracy: 0.6986 - val_loss: 0.7493 - val_accuracy: 0.6585\n",
            "Epoch 35/100\n",
            "62/62 [==============================] - 0s 5ms/step - loss: 0.6643 - accuracy: 0.7026 - val_loss: 0.6803 - val_accuracy: 0.7073\n",
            "Epoch 36/100\n",
            "62/62 [==============================] - 0s 7ms/step - loss: 0.6664 - accuracy: 0.7006 - val_loss: 0.6914 - val_accuracy: 0.6992\n",
            "Epoch 37/100\n",
            "62/62 [==============================] - 0s 4ms/step - loss: 0.6736 - accuracy: 0.7047 - val_loss: 0.6965 - val_accuracy: 0.6667\n",
            "Epoch 38/100\n",
            "62/62 [==============================] - 0s 5ms/step - loss: 0.6582 - accuracy: 0.7067 - val_loss: 0.6899 - val_accuracy: 0.6829\n",
            "Epoch 39/100\n",
            "62/62 [==============================] - 0s 4ms/step - loss: 0.6591 - accuracy: 0.7149 - val_loss: 0.6612 - val_accuracy: 0.7154\n",
            "Epoch 40/100\n",
            "62/62 [==============================] - 0s 4ms/step - loss: 0.6640 - accuracy: 0.6986 - val_loss: 0.6550 - val_accuracy: 0.6667\n",
            "Epoch 41/100\n",
            "62/62 [==============================] - 0s 4ms/step - loss: 0.6473 - accuracy: 0.7210 - val_loss: 0.7576 - val_accuracy: 0.6423\n",
            "Epoch 42/100\n",
            "62/62 [==============================] - 0s 5ms/step - loss: 0.6580 - accuracy: 0.7189 - val_loss: 0.6298 - val_accuracy: 0.7642\n",
            "Epoch 43/100\n",
            "62/62 [==============================] - 0s 4ms/step - loss: 0.6572 - accuracy: 0.7128 - val_loss: 0.6395 - val_accuracy: 0.7073\n",
            "Epoch 44/100\n",
            "62/62 [==============================] - 0s 6ms/step - loss: 0.6552 - accuracy: 0.7169 - val_loss: 0.6778 - val_accuracy: 0.6585\n",
            "Epoch 45/100\n",
            "62/62 [==============================] - 0s 7ms/step - loss: 0.6501 - accuracy: 0.7149 - val_loss: 0.6449 - val_accuracy: 0.7480\n",
            "Epoch 46/100\n",
            "62/62 [==============================] - 0s 6ms/step - loss: 0.6390 - accuracy: 0.7149 - val_loss: 0.6957 - val_accuracy: 0.6829\n",
            "Epoch 47/100\n",
            "62/62 [==============================] - 0s 7ms/step - loss: 0.6448 - accuracy: 0.7312 - val_loss: 0.6585 - val_accuracy: 0.7236\n",
            "Epoch 48/100\n",
            "62/62 [==============================] - 0s 6ms/step - loss: 0.6333 - accuracy: 0.7210 - val_loss: 0.6676 - val_accuracy: 0.6829\n",
            "Epoch 49/100\n",
            "62/62 [==============================] - 0s 7ms/step - loss: 0.6437 - accuracy: 0.7149 - val_loss: 0.6656 - val_accuracy: 0.6992\n",
            "Epoch 50/100\n",
            "62/62 [==============================] - 0s 5ms/step - loss: 0.6341 - accuracy: 0.7210 - val_loss: 0.6225 - val_accuracy: 0.7398\n",
            "Epoch 51/100\n",
            "62/62 [==============================] - 0s 5ms/step - loss: 0.6295 - accuracy: 0.7251 - val_loss: 0.6716 - val_accuracy: 0.6504\n",
            "Epoch 52/100\n",
            "62/62 [==============================] - 0s 4ms/step - loss: 0.6285 - accuracy: 0.7088 - val_loss: 0.6518 - val_accuracy: 0.7073\n",
            "Epoch 53/100\n",
            "62/62 [==============================] - 0s 5ms/step - loss: 0.6412 - accuracy: 0.6965 - val_loss: 0.6166 - val_accuracy: 0.7398\n",
            "Epoch 54/100\n",
            "62/62 [==============================] - 0s 4ms/step - loss: 0.6186 - accuracy: 0.7251 - val_loss: 0.6951 - val_accuracy: 0.6829\n",
            "Epoch 55/100\n",
            "62/62 [==============================] - 0s 4ms/step - loss: 0.6310 - accuracy: 0.7149 - val_loss: 0.6930 - val_accuracy: 0.6748\n",
            "Epoch 56/100\n",
            "62/62 [==============================] - 0s 4ms/step - loss: 0.6326 - accuracy: 0.7230 - val_loss: 0.6043 - val_accuracy: 0.7642\n",
            "Epoch 57/100\n",
            "62/62 [==============================] - 0s 5ms/step - loss: 0.6293 - accuracy: 0.7108 - val_loss: 0.6711 - val_accuracy: 0.6667\n",
            "Epoch 58/100\n",
            "62/62 [==============================] - 0s 4ms/step - loss: 0.6315 - accuracy: 0.7108 - val_loss: 0.6233 - val_accuracy: 0.7480\n",
            "Epoch 59/100\n",
            "62/62 [==============================] - 0s 5ms/step - loss: 0.6186 - accuracy: 0.7271 - val_loss: 0.6071 - val_accuracy: 0.7073\n",
            "Epoch 60/100\n",
            "62/62 [==============================] - 0s 5ms/step - loss: 0.6285 - accuracy: 0.7210 - val_loss: 0.6443 - val_accuracy: 0.7317\n",
            "Epoch 61/100\n",
            "62/62 [==============================] - 0s 5ms/step - loss: 0.6314 - accuracy: 0.7108 - val_loss: 0.6423 - val_accuracy: 0.7236\n",
            "Epoch 62/100\n",
            "62/62 [==============================] - 0s 4ms/step - loss: 0.6225 - accuracy: 0.7189 - val_loss: 0.6042 - val_accuracy: 0.7236\n",
            "Epoch 63/100\n",
            "62/62 [==============================] - 0s 5ms/step - loss: 0.6216 - accuracy: 0.7291 - val_loss: 0.6105 - val_accuracy: 0.7236\n",
            "Epoch 64/100\n",
            "62/62 [==============================] - 0s 5ms/step - loss: 0.6228 - accuracy: 0.7128 - val_loss: 0.6584 - val_accuracy: 0.6585\n",
            "Epoch 65/100\n",
            "62/62 [==============================] - 0s 4ms/step - loss: 0.6245 - accuracy: 0.7169 - val_loss: 0.5963 - val_accuracy: 0.7642\n",
            "Epoch 66/100\n",
            "62/62 [==============================] - 0s 5ms/step - loss: 0.6097 - accuracy: 0.7210 - val_loss: 0.7108 - val_accuracy: 0.6098\n",
            "Epoch 67/100\n",
            "62/62 [==============================] - 0s 5ms/step - loss: 0.6257 - accuracy: 0.7210 - val_loss: 0.5906 - val_accuracy: 0.7642\n",
            "Epoch 68/100\n",
            "62/62 [==============================] - 0s 5ms/step - loss: 0.6111 - accuracy: 0.7230 - val_loss: 0.6200 - val_accuracy: 0.7480\n",
            "Epoch 69/100\n",
            "62/62 [==============================] - 0s 5ms/step - loss: 0.6055 - accuracy: 0.7189 - val_loss: 0.6064 - val_accuracy: 0.6992\n",
            "Epoch 70/100\n",
            "62/62 [==============================] - 0s 4ms/step - loss: 0.6191 - accuracy: 0.7230 - val_loss: 0.6216 - val_accuracy: 0.7236\n",
            "Epoch 71/100\n",
            "62/62 [==============================] - 0s 4ms/step - loss: 0.6169 - accuracy: 0.7189 - val_loss: 0.6471 - val_accuracy: 0.7317\n",
            "Epoch 72/100\n",
            "62/62 [==============================] - 0s 5ms/step - loss: 0.6169 - accuracy: 0.7149 - val_loss: 0.5950 - val_accuracy: 0.7317\n",
            "Epoch 73/100\n",
            "62/62 [==============================] - 0s 5ms/step - loss: 0.6217 - accuracy: 0.7088 - val_loss: 0.5912 - val_accuracy: 0.7561\n",
            "Epoch 74/100\n",
            "62/62 [==============================] - 0s 4ms/step - loss: 0.5994 - accuracy: 0.7312 - val_loss: 0.5944 - val_accuracy: 0.7886\n",
            "Epoch 75/100\n",
            "62/62 [==============================] - 0s 5ms/step - loss: 0.6078 - accuracy: 0.7312 - val_loss: 0.6409 - val_accuracy: 0.7154\n",
            "Epoch 76/100\n",
            "62/62 [==============================] - 0s 5ms/step - loss: 0.6111 - accuracy: 0.7373 - val_loss: 0.7049 - val_accuracy: 0.6667\n",
            "Epoch 77/100\n",
            "62/62 [==============================] - 0s 5ms/step - loss: 0.6185 - accuracy: 0.7210 - val_loss: 0.6009 - val_accuracy: 0.7317\n",
            "Epoch 78/100\n",
            "62/62 [==============================] - 0s 4ms/step - loss: 0.6074 - accuracy: 0.7352 - val_loss: 0.5954 - val_accuracy: 0.7317\n",
            "Epoch 79/100\n",
            "62/62 [==============================] - 0s 5ms/step - loss: 0.6115 - accuracy: 0.7169 - val_loss: 0.6647 - val_accuracy: 0.6911\n",
            "Epoch 80/100\n",
            "62/62 [==============================] - 0s 5ms/step - loss: 0.6100 - accuracy: 0.7230 - val_loss: 0.6226 - val_accuracy: 0.7398\n",
            "Epoch 81/100\n",
            "62/62 [==============================] - 0s 5ms/step - loss: 0.6034 - accuracy: 0.7271 - val_loss: 0.6409 - val_accuracy: 0.7317\n",
            "Epoch 82/100\n",
            "62/62 [==============================] - 0s 5ms/step - loss: 0.6132 - accuracy: 0.7312 - val_loss: 0.6302 - val_accuracy: 0.7236\n",
            "Epoch 83/100\n",
            "62/62 [==============================] - 0s 6ms/step - loss: 0.6011 - accuracy: 0.7271 - val_loss: 0.6630 - val_accuracy: 0.6667\n",
            "Epoch 84/100\n",
            "62/62 [==============================] - 0s 6ms/step - loss: 0.5987 - accuracy: 0.7312 - val_loss: 0.6137 - val_accuracy: 0.7073\n",
            "Epoch 85/100\n",
            "62/62 [==============================] - 0s 7ms/step - loss: 0.5975 - accuracy: 0.7454 - val_loss: 0.6876 - val_accuracy: 0.7154\n",
            "Epoch 86/100\n",
            "62/62 [==============================] - 0s 6ms/step - loss: 0.6032 - accuracy: 0.7352 - val_loss: 0.6191 - val_accuracy: 0.7480\n",
            "Epoch 87/100\n",
            "62/62 [==============================] - 0s 7ms/step - loss: 0.5981 - accuracy: 0.7352 - val_loss: 0.6149 - val_accuracy: 0.7480\n",
            "Epoch 88/100\n",
            "62/62 [==============================] - 0s 7ms/step - loss: 0.6011 - accuracy: 0.7352 - val_loss: 0.6601 - val_accuracy: 0.6829\n",
            "Epoch 89/100\n",
            "62/62 [==============================] - 0s 5ms/step - loss: 0.5922 - accuracy: 0.7495 - val_loss: 0.7302 - val_accuracy: 0.6504\n",
            "Epoch 90/100\n",
            "62/62 [==============================] - 0s 5ms/step - loss: 0.5937 - accuracy: 0.7291 - val_loss: 0.6116 - val_accuracy: 0.7154\n",
            "Epoch 91/100\n",
            "62/62 [==============================] - 0s 5ms/step - loss: 0.5977 - accuracy: 0.7291 - val_loss: 0.6038 - val_accuracy: 0.6992\n",
            "Epoch 92/100\n",
            "62/62 [==============================] - 0s 5ms/step - loss: 0.6061 - accuracy: 0.7189 - val_loss: 0.5985 - val_accuracy: 0.7398\n",
            "Epoch 93/100\n",
            "62/62 [==============================] - 0s 5ms/step - loss: 0.5976 - accuracy: 0.7312 - val_loss: 0.5800 - val_accuracy: 0.7724\n",
            "Epoch 94/100\n",
            "62/62 [==============================] - 0s 5ms/step - loss: 0.5855 - accuracy: 0.7434 - val_loss: 0.5735 - val_accuracy: 0.7642\n",
            "Epoch 95/100\n",
            "62/62 [==============================] - 0s 5ms/step - loss: 0.5966 - accuracy: 0.7454 - val_loss: 0.5690 - val_accuracy: 0.7724\n",
            "Epoch 96/100\n",
            "62/62 [==============================] - 0s 5ms/step - loss: 0.5861 - accuracy: 0.7291 - val_loss: 0.6524 - val_accuracy: 0.6667\n",
            "Epoch 97/100\n",
            "62/62 [==============================] - 0s 5ms/step - loss: 0.6011 - accuracy: 0.7128 - val_loss: 0.5702 - val_accuracy: 0.7398\n",
            "Epoch 98/100\n",
            "62/62 [==============================] - 0s 5ms/step - loss: 0.5946 - accuracy: 0.7271 - val_loss: 0.6022 - val_accuracy: 0.7398\n",
            "Epoch 99/100\n",
            "62/62 [==============================] - 0s 5ms/step - loss: 0.5890 - accuracy: 0.7393 - val_loss: 0.5774 - val_accuracy: 0.7642\n",
            "Epoch 100/100\n",
            "62/62 [==============================] - 0s 5ms/step - loss: 0.5961 - accuracy: 0.7332 - val_loss: 0.5777 - val_accuracy: 0.7398\n"
          ]
        },
        {
          "output_type": "execute_result",
          "data": {
            "text/plain": [
              "<keras.callbacks.History at 0x7f1ff9f08640>"
            ]
          },
          "metadata": {},
          "execution_count": 72
        }
      ]
    },
    {
      "cell_type": "code",
      "source": [
        "model.save(\"best_model_optimization.h5\")"
      ],
      "metadata": {
        "id": "ETd2_XspqkiK"
      },
      "execution_count": 73,
      "outputs": []
    },
    {
      "cell_type": "code",
      "source": [
        "loss, accuracy = model.evaluate(X_test, y_test)\n",
        "print(\"Best model using Optimization (Adam -> RMSprop)\")\n",
        "print(\"Loss: \", loss)\n",
        "print(\"Accuracy: \", accuracy)\n",
        "\n",
        "original = load_model(\"model.h5\")\n",
        "loss, accuracy = original.evaluate(X_test, y_test)\n",
        "print(\"Original model\")\n",
        "print(\"Loss: \", loss)\n",
        "print(\"Accuracy: \", accuracy)"
      ],
      "metadata": {
        "colab": {
          "base_uri": "https://localhost:8080/"
        },
        "id": "4-4C4kRMi2hj",
        "outputId": "38235884-0198-4f0d-94b0-630c43f5a711"
      },
      "execution_count": 74,
      "outputs": [
        {
          "output_type": "stream",
          "name": "stdout",
          "text": [
            "5/5 [==============================] - 0s 4ms/step - loss: 0.6272 - accuracy: 0.7208\n",
            "Best model using Optimization (Adam -> RMSprop)\n",
            "Loss:  0.6271921396255493\n",
            "Accuracy:  0.7207792401313782\n",
            "5/5 [==============================] - 0s 4ms/step - loss: 0.6234 - accuracy: 0.6948\n",
            "Original model\n",
            "Loss:  0.6233633160591125\n",
            "Accuracy:  0.6948052048683167\n"
          ]
        }
      ]
    },
    {
      "cell_type": "markdown",
      "source": [
        "### So với model ban đầu, model được cải tiến bằng Regularization đã có sự cải thiện về độ chính xác, cụ thể ở đây em thay đổi optimizer từ Adam sang RMSprop. Thuật toán tối ưu mô hình sẽ thay đổi cách tính toán gradient và cập nhật trọng số trong quá trình huấn luyện. Cụ thể, hai thuật toán này sử dụng hai phương pháp khác nhau để tính toán gradient và cập nhật trọng số, do đó việc thay đổi optimizer sẽ có tác động đến hiệu suất của mô hình."
      ],
      "metadata": {
        "id": "6O_FsWg_jHwn"
      }
    },
    {
      "cell_type": "markdown",
      "source": [
        "## Kết hợp cả 3 kỹ thuật"
      ],
      "metadata": {
        "id": "DgCWjPexjbb6"
      }
    },
    {
      "cell_type": "code",
      "source": [
        "# Tạm hàm build Hyper model\n",
        "def build_best_model(hp): \n",
        "  model = keras.Sequential()\n",
        "\n",
        "  X = hp.Int('units_input', min_value=8, max_value=64, step=8)\n",
        "  model.add(Dense(units=X, input_dim=8, activation='relu', kernel_regularizer=regularizers.l2(0.01)))\n",
        "\n",
        "  for i in range(hp.Int('num_layers', 1, 4)):\n",
        "    Y = hp.Int('units_' + str(i), min_value=8, max_value=64, step=8)\n",
        "    model.add(Dense(units=Y, activation='relu', kernel_regularizer=regularizers.l2(0.01)))\n",
        "\n",
        "  model.add(Dense(1, activation='sigmoid'))\n",
        "\n",
        "  # Tìm kiếm optimizer\n",
        "  optimizer = hp.Choice('optimizer', values=['adam', 'rmsprop'])\n",
        "\n",
        "  # Tìm kiếm learning_rate\n",
        "  lr = hp.Choice('learning_rate', values=[1e-2, 1e-3, 1e-4])\n",
        "\n",
        "  if optimizer == 'adam':\n",
        "    model.compile(loss='binary_crossentropy', optimizer=Adam(learning_rate=lr), metrics=['accuracy'])\n",
        "  else:\n",
        "    model.compile(loss='binary_crossentropy', optimizer=RMSprop(learning_rate=lr), metrics=['accuracy'])\n",
        "  \n",
        "  return model"
      ],
      "metadata": {
        "id": "OITYCSdPjqO7"
      },
      "execution_count": 75,
      "outputs": []
    },
    {
      "cell_type": "code",
      "source": [
        "# Khởi tạo Tuner\n",
        "tuner = kt.Hyperband (build_best_model, objective=\"val_accuracy\", directory=\"tuner_dir_2\", project_name=\"MLE501_Tuner_2\")"
      ],
      "metadata": {
        "id": "_GVRQIGJlOds"
      },
      "execution_count": 76,
      "outputs": []
    },
    {
      "cell_type": "code",
      "source": [
        "tuner.search(X_train, y_train, epochs=10, validation_data=(X_val, y_val))"
      ],
      "metadata": {
        "id": "RxCcOO_DlXuw"
      },
      "execution_count": 77,
      "outputs": []
    },
    {
      "cell_type": "code",
      "source": [
        "# Lấy ra các tham số\n",
        "best_hps = tuner.get_best_hyperparameters()[0]\n",
        "\n",
        "print(\"units_input: \", best_hps.get('units_input'))\n",
        "print(\"num_layers: \", best_hps.get('num_layers'))\n",
        "print(\"optimizer: \", best_hps.get('optimizer'))\n",
        "print(\"learning_rate: \", best_hps.get('learning_rate'))"
      ],
      "metadata": {
        "colab": {
          "base_uri": "https://localhost:8080/"
        },
        "id": "jmvaw6wOpV4j",
        "outputId": "62cedf2d-86c3-4e04-8be0-3dbe8485c370"
      },
      "execution_count": 78,
      "outputs": [
        {
          "output_type": "stream",
          "name": "stdout",
          "text": [
            "units_input:  16\n",
            "num_layers:  4\n",
            "optimizer:  adam\n",
            "learning_rate:  0.01\n"
          ]
        }
      ]
    },
    {
      "cell_type": "code",
      "source": [
        "# lấy super model\n",
        "best_model = tuner.get_best_models(num_models=1)[0]\n",
        "\n",
        "best_model.summary()\n",
        "\n",
        "best_model.fit(X_train, y_train, epochs=100, batch_size=8, validation_data=(X_val, y_val))"
      ],
      "metadata": {
        "id": "MuqUmmfWquFv"
      },
      "execution_count": null,
      "outputs": []
    },
    {
      "cell_type": "code",
      "source": [
        "best_model.save(\"best_model_super.h5\")"
      ],
      "metadata": {
        "id": "VLlQM-4TqyIw"
      },
      "execution_count": 80,
      "outputs": []
    },
    {
      "cell_type": "code",
      "source": [
        "modelOriginal = load_model(\"model.h5\")\n",
        "modelHp = load_model(\"best_model_hp.h5\")\n",
        "modelRe = load_model(\"best_model_regularization.h5\")\n",
        "modelOp = load_model(\"best_model_optimization.h5\")\n",
        "modelSuper = load_model(\"best_model_super.h5\")\n",
        "\n",
        "lossOriginal, accuracyOriginal = modelOriginal.evaluate(X_test, y_test)\n",
        "lossHp, accuracyHp = modelHp.evaluate(X_test, y_test)\n",
        "lossRe, accuracyRe = modelRe.evaluate(X_test, y_test)\n",
        "lossOp, accuracyOp = modelOp.evaluate(X_test, y_test)\n",
        "lossSuper, accuracySuper = modelSuper.evaluate(X_test, y_test)"
      ],
      "metadata": {
        "colab": {
          "base_uri": "https://localhost:8080/"
        },
        "id": "9deVfOnns3fT",
        "outputId": "06572336-1f9d-4874-8fc9-16359348faea"
      },
      "execution_count": 97,
      "outputs": [
        {
          "output_type": "stream",
          "name": "stderr",
          "text": [
            "WARNING:tensorflow:Error in loading the saved optimizer state. As a result, your model is starting with a freshly initialized optimizer.\n",
            "WARNING:tensorflow:Error in loading the saved optimizer state. As a result, your model is starting with a freshly initialized optimizer.\n"
          ]
        },
        {
          "output_type": "stream",
          "name": "stdout",
          "text": [
            "5/5 [==============================] - 0s 4ms/step - loss: 0.6234 - accuracy: 0.6948\n",
            "5/5 [==============================] - 0s 4ms/step - loss: 0.6350 - accuracy: 0.7013\n",
            "5/5 [==============================] - 0s 4ms/step - loss: 0.6203 - accuracy: 0.7143\n",
            "5/5 [==============================] - 0s 4ms/step - loss: 0.6272 - accuracy: 0.7208\n",
            "5/5 [==============================] - 0s 4ms/step - loss: 0.5387 - accuracy: 0.7403\n"
          ]
        }
      ]
    },
    {
      "cell_type": "code",
      "source": [
        "# create the DataFrame\n",
        "df = pd.DataFrame({'': ['Original','Hyperparameter Tuning (Keras Tuner)','Regularization (L2 Regularization)','Optimization (Adam -> RMSprop)','Combined 3 ways'],\n",
        "                   'Loss': [lossOriginal, lossHp, lossRe, lossOp, lossSuper],\n",
        "                   'Accuracy': [accuracyOriginal, accuracyHp, accuracyRe, accuracyOp, accuracySuper]})\n",
        "\n",
        "# print the table using tabulate\n",
        "print(tabulate(df, headers='keys', tablefmt='pipe', floatfmt='.4f'))"
      ],
      "metadata": {
        "colab": {
          "base_uri": "https://localhost:8080/"
        },
        "id": "6t453wmXwTf0",
        "outputId": "50595c0c-cd28-4fe1-fd0d-a40361b68a39"
      },
      "execution_count": 102,
      "outputs": [
        {
          "output_type": "stream",
          "name": "stdout",
          "text": [
            "|    |                                     |   Loss |   Accuracy |\n",
            "|---:|:------------------------------------|-------:|-----------:|\n",
            "|  0 | Original                            | 0.6234 |     0.6948 |\n",
            "|  1 | Hyperparameter Tuning (Keras Tuner) | 0.6350 |     0.7013 |\n",
            "|  2 | Regularization (L2 Regularization)  | 0.6203 |     0.7143 |\n",
            "|  3 | Optimization (Adam -> RMSprop)      | 0.6272 |     0.7208 |\n",
            "|  4 | Combined 3 ways                     | 0.5387 |     0.7403 |\n"
          ]
        }
      ]
    }
  ]
}